{
 "cells": [
  {
   "cell_type": "markdown",
   "metadata": {},
   "source": [
    "<a href=\"https://www.pieriandata.com\"><img src=\"../Pierian_Data_Logo.PNG\"></a>\n",
    "<strong><center>Copyright by Pierian Data Inc.</center></strong> \n",
    "<strong><center>Created by Jose Marcial Portilla.</center></strong>"
   ]
  },
  {
   "cell_type": "markdown",
   "metadata": {},
   "source": [
    "# Keras API Project Exercise\n",
    "\n",
    "## The Data\n",
    "\n",
    "We will be using a subset of the LendingClub DataSet obtained from Kaggle: https://www.kaggle.com/wordsforthewise/lending-club\n",
    "\n",
    "## NOTE: Do not download the full zip from the link! We provide a special version of this file that has some extra feature engineering for you to do. You won't be able to follow along with the original file!\n",
    "\n",
    "LendingClub is a US peer-to-peer lending company, headquartered in San Francisco, California.[3] It was the first peer-to-peer lender to register its offerings as securities with the Securities and Exchange Commission (SEC), and to offer loan trading on a secondary market. LendingClub is the world's largest peer-to-peer lending platform.\n",
    "\n",
    "### Our Goal\n",
    "\n",
    "Given historical data on loans given out with information on whether or not the borrower defaulted (charge-off), can we build a model thatcan predict wether or nor a borrower will pay back their loan? This way in the future when we get a new potential customer we can assess whether or not they are likely to pay back the loan. Keep in mind classification metrics when evaluating the performance of your model!\n",
    "\n",
    "The \"loan_status\" column contains our label.\n",
    "\n",
    "### Data Overview"
   ]
  },
  {
   "cell_type": "markdown",
   "metadata": {},
   "source": [
    "----\n",
    "-----\n",
    "There are many LendingClub data sets on Kaggle. Here is the information on this particular data set:\n",
    "\n",
    "<table border=\"1\" class=\"dataframe\">\n",
    "  <thead>\n",
    "    <tr style=\"text-align: right;\">\n",
    "      <th></th>\n",
    "      <th>LoanStatNew</th>\n",
    "      <th>Description</th>\n",
    "    </tr>\n",
    "  </thead>\n",
    "  <tbody>\n",
    "    <tr>\n",
    "      <th>0</th>\n",
    "      <td>loan_amnt</td>\n",
    "      <td>The listed amount of the loan applied for by the borrower. If at some point in time, the credit department reduces the loan amount, then it will be reflected in this value.</td>\n",
    "    </tr>\n",
    "    <tr>\n",
    "      <th>1</th>\n",
    "      <td>term</td>\n",
    "      <td>The number of payments on the loan. Values are in months and can be either 36 or 60.</td>\n",
    "    </tr>\n",
    "    <tr>\n",
    "      <th>2</th>\n",
    "      <td>int_rate</td>\n",
    "      <td>Interest Rate on the loan</td>\n",
    "    </tr>\n",
    "    <tr>\n",
    "      <th>3</th>\n",
    "      <td>installment</td>\n",
    "      <td>The monthly payment owed by the borrower if the loan originates.</td>\n",
    "    </tr>\n",
    "    <tr>\n",
    "      <th>4</th>\n",
    "      <td>grade</td>\n",
    "      <td>LC assigned loan grade</td>\n",
    "    </tr>\n",
    "    <tr>\n",
    "      <th>5</th>\n",
    "      <td>sub_grade</td>\n",
    "      <td>LC assigned loan subgrade</td>\n",
    "    </tr>\n",
    "    <tr>\n",
    "      <th>6</th>\n",
    "      <td>emp_title</td>\n",
    "      <td>The job title supplied by the Borrower when applying for the loan.*</td>\n",
    "    </tr>\n",
    "    <tr>\n",
    "      <th>7</th>\n",
    "      <td>emp_length</td>\n",
    "      <td>Employment length in years. Possible values are between 0 and 10 where 0 means less than one year and 10 means ten or more years.</td>\n",
    "    </tr>\n",
    "    <tr>\n",
    "      <th>8</th>\n",
    "      <td>home_ownership</td>\n",
    "      <td>The home ownership status provided by the borrower during registration or obtained from the credit report. Our values are: RENT, OWN, MORTGAGE, OTHER</td>\n",
    "    </tr>\n",
    "    <tr>\n",
    "      <th>9</th>\n",
    "      <td>annual_inc</td>\n",
    "      <td>The self-reported annual income provided by the borrower during registration.</td>\n",
    "    </tr>\n",
    "    <tr>\n",
    "      <th>10</th>\n",
    "      <td>verification_status</td>\n",
    "      <td>Indicates if income was verified by LC, not verified, or if the income source was verified</td>\n",
    "    </tr>\n",
    "    <tr>\n",
    "      <th>11</th>\n",
    "      <td>issue_d</td>\n",
    "      <td>The month which the loan was funded</td>\n",
    "    </tr>\n",
    "    <tr>\n",
    "      <th>12</th>\n",
    "      <td>loan_status</td>\n",
    "      <td>Current status of the loan</td>\n",
    "    </tr>\n",
    "    <tr>\n",
    "      <th>13</th>\n",
    "      <td>purpose</td>\n",
    "      <td>A category provided by the borrower for the loan request.</td>\n",
    "    </tr>\n",
    "    <tr>\n",
    "      <th>14</th>\n",
    "      <td>title</td>\n",
    "      <td>The loan title provided by the borrower</td>\n",
    "    </tr>\n",
    "    <tr>\n",
    "      <th>15</th>\n",
    "      <td>zip_code</td>\n",
    "      <td>The first 3 numbers of the zip code provided by the borrower in the loan application.</td>\n",
    "    </tr>\n",
    "    <tr>\n",
    "      <th>16</th>\n",
    "      <td>addr_state</td>\n",
    "      <td>The state provided by the borrower in the loan application</td>\n",
    "    </tr>\n",
    "    <tr>\n",
    "      <th>17</th>\n",
    "      <td>dti</td>\n",
    "      <td>A ratio calculated using the borrower’s total monthly debt payments on the total debt obligations, excluding mortgage and the requested LC loan, divided by the borrower’s self-reported monthly income.</td>\n",
    "    </tr>\n",
    "    <tr>\n",
    "      <th>18</th>\n",
    "      <td>earliest_cr_line</td>\n",
    "      <td>The month the borrower's earliest reported credit line was opened</td>\n",
    "    </tr>\n",
    "    <tr>\n",
    "      <th>19</th>\n",
    "      <td>open_acc</td>\n",
    "      <td>The number of open credit lines in the borrower's credit file.</td>\n",
    "    </tr>\n",
    "    <tr>\n",
    "      <th>20</th>\n",
    "      <td>pub_rec</td>\n",
    "      <td>Number of derogatory public records</td>\n",
    "    </tr>\n",
    "    <tr>\n",
    "      <th>21</th>\n",
    "      <td>revol_bal</td>\n",
    "      <td>Total credit revolving balance</td>\n",
    "    </tr>\n",
    "    <tr>\n",
    "      <th>22</th>\n",
    "      <td>revol_util</td>\n",
    "      <td>Revolving line utilization rate, or the amount of credit the borrower is using relative to all available revolving credit.</td>\n",
    "    </tr>\n",
    "    <tr>\n",
    "      <th>23</th>\n",
    "      <td>total_acc</td>\n",
    "      <td>The total number of credit lines currently in the borrower's credit file</td>\n",
    "    </tr>\n",
    "    <tr>\n",
    "      <th>24</th>\n",
    "      <td>initial_list_status</td>\n",
    "      <td>The initial listing status of the loan. Possible values are – W, F</td>\n",
    "    </tr>\n",
    "    <tr>\n",
    "      <th>25</th>\n",
    "      <td>application_type</td>\n",
    "      <td>Indicates whether the loan is an individual application or a joint application with two co-borrowers</td>\n",
    "    </tr>\n",
    "    <tr>\n",
    "      <th>26</th>\n",
    "      <td>mort_acc</td>\n",
    "      <td>Number of mortgage accounts.</td>\n",
    "    </tr>\n",
    "    <tr>\n",
    "      <th>27</th>\n",
    "      <td>pub_rec_bankruptcies</td>\n",
    "      <td>Number of public record bankruptcies</td>\n",
    "    </tr>\n",
    "  </tbody>\n",
    "</table>\n",
    "\n",
    "---\n",
    "----"
   ]
  },
  {
   "cell_type": "markdown",
   "metadata": {},
   "source": [
    "## Starter Code\n",
    "\n",
    "#### Note: We also provide feature information on the data as a .csv file for easy lookup throughout the notebook:"
   ]
  },
  {
   "cell_type": "code",
   "execution_count": 1,
   "metadata": {},
   "outputs": [],
   "source": [
    "import pandas as pd"
   ]
  },
  {
   "cell_type": "code",
   "execution_count": 2,
   "metadata": {},
   "outputs": [],
   "source": [
    "data_info = pd.read_csv('lending_club_info.csv',index_col='LoanStatNew')"
   ]
  },
  {
   "cell_type": "code",
   "execution_count": 3,
   "metadata": {},
   "outputs": [
    {
     "name": "stdout",
     "output_type": "stream",
     "text": [
      "Revolving line utilization rate, or the amount of credit the borrower is using relative to all available revolving credit.\n"
     ]
    }
   ],
   "source": [
    "print(data_info.loc['revol_util']['Description'])"
   ]
  },
  {
   "cell_type": "code",
   "execution_count": 4,
   "metadata": {},
   "outputs": [],
   "source": [
    "def feat_info(col_name):\n",
    "    print(data_info.loc[col_name]['Description'])"
   ]
  },
  {
   "cell_type": "code",
   "execution_count": 5,
   "metadata": {},
   "outputs": [
    {
     "name": "stdout",
     "output_type": "stream",
     "text": [
      "Number of mortgage accounts.\n"
     ]
    }
   ],
   "source": [
    "feat_info('mort_acc')"
   ]
  },
  {
   "cell_type": "markdown",
   "metadata": {},
   "source": [
    "## Loading the data and other imports"
   ]
  },
  {
   "cell_type": "code",
   "execution_count": 6,
   "metadata": {},
   "outputs": [],
   "source": [
    "import pandas as pd\n",
    "import numpy as np\n",
    "import matplotlib.pyplot as plt\n",
    "import seaborn as sns\n",
    "\n",
    "# might be needed depending on your version of Jupyter\n",
    "%matplotlib inline"
   ]
  },
  {
   "cell_type": "code",
   "execution_count": 7,
   "metadata": {},
   "outputs": [],
   "source": [
    "df = pd.read_csv('lending_club_loan_two.csv')"
   ]
  },
  {
   "cell_type": "code",
   "execution_count": 8,
   "metadata": {},
   "outputs": [
    {
     "name": "stdout",
     "output_type": "stream",
     "text": [
      "<class 'pandas.core.frame.DataFrame'>\n",
      "RangeIndex: 396030 entries, 0 to 396029\n",
      "Data columns (total 27 columns):\n",
      " #   Column                Non-Null Count   Dtype  \n",
      "---  ------                --------------   -----  \n",
      " 0   loan_amnt             396030 non-null  float64\n",
      " 1   term                  396030 non-null  object \n",
      " 2   int_rate              396030 non-null  float64\n",
      " 3   installment           396030 non-null  float64\n",
      " 4   grade                 396030 non-null  object \n",
      " 5   sub_grade             396030 non-null  object \n",
      " 6   emp_title             373103 non-null  object \n",
      " 7   emp_length            377729 non-null  object \n",
      " 8   home_ownership        396030 non-null  object \n",
      " 9   annual_inc            396030 non-null  float64\n",
      " 10  verification_status   396030 non-null  object \n",
      " 11  issue_d               396030 non-null  object \n",
      " 12  loan_status           396030 non-null  object \n",
      " 13  purpose               396030 non-null  object \n",
      " 14  title                 394275 non-null  object \n",
      " 15  dti                   396030 non-null  float64\n",
      " 16  earliest_cr_line      396030 non-null  object \n",
      " 17  open_acc              396030 non-null  float64\n",
      " 18  pub_rec               396030 non-null  float64\n",
      " 19  revol_bal             396030 non-null  float64\n",
      " 20  revol_util            395754 non-null  float64\n",
      " 21  total_acc             396030 non-null  float64\n",
      " 22  initial_list_status   396030 non-null  object \n",
      " 23  application_type      396030 non-null  object \n",
      " 24  mort_acc              358235 non-null  float64\n",
      " 25  pub_rec_bankruptcies  395495 non-null  float64\n",
      " 26  address               396030 non-null  object \n",
      "dtypes: float64(12), object(15)\n",
      "memory usage: 81.6+ MB\n"
     ]
    }
   ],
   "source": [
    "df.info()"
   ]
  },
  {
   "cell_type": "markdown",
   "metadata": {},
   "source": [
    "# Project Tasks\n",
    "\n",
    "**Complete the tasks below! Keep in mind is usually more than one way to complete the task! Enjoy**\n",
    "\n",
    "-----\n",
    "------\n",
    "\n",
    "# Section 1: Exploratory Data Analysis\n",
    "\n",
    "**OVERALL GOAL: Get an understanding for which variables are important, view summary statistics, and visualize the data**\n",
    "\n",
    "\n",
    "----"
   ]
  },
  {
   "cell_type": "markdown",
   "metadata": {},
   "source": [
    "**TASK: Since we will be attempting to predict loan_status, create a countplot as shown below.**"
   ]
  },
  {
   "cell_type": "code",
   "execution_count": 9,
   "metadata": {},
   "outputs": [
    {
     "data": {
      "text/plain": [
       "<AxesSubplot:xlabel='loan_status', ylabel='count'>"
      ]
     },
     "execution_count": 9,
     "metadata": {},
     "output_type": "execute_result"
    },
    {
     "data": {
      "image/png": "[encoded data removed]",
      "text/plain": [
       "<Figure size 432x288 with 1 Axes>"
      ]
     },
     "metadata": {
      "needs_background": "light"
     },
     "output_type": "display_data"
    }
   ],
   "source": [
    "# CODE HERE\n",
    "sns.countplot(data= df, x='loan_status')"
   ]
  },
  {
   "cell_type": "markdown",
   "metadata": {},
   "source": [
    "**TASK: Create a histogram of the loan_amnt column.**"
   ]
  },
  {
   "cell_type": "code",
   "execution_count": 10,
   "metadata": {},
   "outputs": [
    {
     "data": {
      "text/plain": [
       "<AxesSubplot:xlabel='loan_amnt', ylabel='Count'>"
      ]
     },
     "execution_count": 10,
     "metadata": {},
     "output_type": "execute_result"
    },
    {
     "data": {
      "image/png": "[encoded data removed]",
      "text/plain": [
       "<Figure size 432x288 with 1 Axes>"
      ]
     },
     "metadata": {
      "needs_background": "light"
     },
     "output_type": "display_data"
    }
   ],
   "source": [
    "# CODE HERE\n",
    "sns.histplot(data=df, x=\"loan_amnt\",bins=40)"
   ]
  },
  {
   "cell_type": "code",
   "execution_count": null,
   "metadata": {},
   "outputs": [],
   "source": []
  },
  {
   "cell_type": "markdown",
   "metadata": {},
   "source": [
    "**TASK: Let's explore correlation between the continuous feature variables. Calculate the correlation between all continuous numeric variables using .corr() method.**"
   ]
  },
  {
   "cell_type": "code",
   "execution_count": 11,
   "metadata": {},
   "outputs": [],
   "source": [
    "# CODE HERE"
   ]
  },
  {
   "cell_type": "code",
   "execution_count": 12,
   "metadata": {},
   "outputs": [
    {
     "data": {
      "text/html": [
       "<div>\n",
       "<style scoped>\n",
       "    .dataframe tbody tr th:only-of-type {\n",
       "        vertical-align: middle;\n",
       "    }\n",
       "\n",
       "    .dataframe tbody tr th {\n",
       "        vertical-align: top;\n",
       "    }\n",
       "\n",
       "    .dataframe thead th {\n",
       "        text-align: right;\n",
       "    }\n",
       "</style>\n",
       "<table border=\"1\" class=\"dataframe\">\n",
       "  <thead>\n",
       "    <tr style=\"text-align: right;\">\n",
       "      <th></th>\n",
       "      <th>loan_amnt</th>\n",
       "      <th>int_rate</th>\n",
       "      <th>installment</th>\n",
       "      <th>annual_inc</th>\n",
       "      <th>dti</th>\n",
       "      <th>open_acc</th>\n",
       "      <th>pub_rec</th>\n",
       "      <th>revol_bal</th>\n",
       "      <th>revol_util</th>\n",
       "      <th>total_acc</th>\n",
       "      <th>mort_acc</th>\n",
       "      <th>pub_rec_bankruptcies</th>\n",
       "    </tr>\n",
       "  </thead>\n",
       "  <tbody>\n",
       "    <tr>\n",
       "      <th>loan_amnt</th>\n",
       "      <td>1.000000</td>\n",
       "      <td>0.168921</td>\n",
       "      <td>0.953929</td>\n",
       "      <td>0.336887</td>\n",
       "      <td>0.016636</td>\n",
       "      <td>0.198556</td>\n",
       "      <td>-0.077779</td>\n",
       "      <td>0.328320</td>\n",
       "      <td>0.099911</td>\n",
       "      <td>0.223886</td>\n",
       "      <td>0.222315</td>\n",
       "      <td>-0.106539</td>\n",
       "    </tr>\n",
       "    <tr>\n",
       "      <th>int_rate</th>\n",
       "      <td>0.168921</td>\n",
       "      <td>1.000000</td>\n",
       "      <td>0.162758</td>\n",
       "      <td>-0.056771</td>\n",
       "      <td>0.079038</td>\n",
       "      <td>0.011649</td>\n",
       "      <td>0.060986</td>\n",
       "      <td>-0.011280</td>\n",
       "      <td>0.293659</td>\n",
       "      <td>-0.036404</td>\n",
       "      <td>-0.082583</td>\n",
       "      <td>0.057450</td>\n",
       "    </tr>\n",
       "    <tr>\n",
       "      <th>installment</th>\n",
       "      <td>0.953929</td>\n",
       "      <td>0.162758</td>\n",
       "      <td>1.000000</td>\n",
       "      <td>0.330381</td>\n",
       "      <td>0.015786</td>\n",
       "      <td>0.188973</td>\n",
       "      <td>-0.067892</td>\n",
       "      <td>0.316455</td>\n",
       "      <td>0.123915</td>\n",
       "      <td>0.202430</td>\n",
       "      <td>0.193694</td>\n",
       "      <td>-0.098628</td>\n",
       "    </tr>\n",
       "    <tr>\n",
       "      <th>annual_inc</th>\n",
       "      <td>0.336887</td>\n",
       "      <td>-0.056771</td>\n",
       "      <td>0.330381</td>\n",
       "      <td>1.000000</td>\n",
       "      <td>-0.081685</td>\n",
       "      <td>0.136150</td>\n",
       "      <td>-0.013720</td>\n",
       "      <td>0.299773</td>\n",
       "      <td>0.027871</td>\n",
       "      <td>0.193023</td>\n",
       "      <td>0.236320</td>\n",
       "      <td>-0.050162</td>\n",
       "    </tr>\n",
       "    <tr>\n",
       "      <th>dti</th>\n",
       "      <td>0.016636</td>\n",
       "      <td>0.079038</td>\n",
       "      <td>0.015786</td>\n",
       "      <td>-0.081685</td>\n",
       "      <td>1.000000</td>\n",
       "      <td>0.136181</td>\n",
       "      <td>-0.017639</td>\n",
       "      <td>0.063571</td>\n",
       "      <td>0.088375</td>\n",
       "      <td>0.102128</td>\n",
       "      <td>-0.025439</td>\n",
       "      <td>-0.014558</td>\n",
       "    </tr>\n",
       "    <tr>\n",
       "      <th>open_acc</th>\n",
       "      <td>0.198556</td>\n",
       "      <td>0.011649</td>\n",
       "      <td>0.188973</td>\n",
       "      <td>0.136150</td>\n",
       "      <td>0.136181</td>\n",
       "      <td>1.000000</td>\n",
       "      <td>-0.018392</td>\n",
       "      <td>0.221192</td>\n",
       "      <td>-0.131420</td>\n",
       "      <td>0.680728</td>\n",
       "      <td>0.109205</td>\n",
       "      <td>-0.027732</td>\n",
       "    </tr>\n",
       "    <tr>\n",
       "      <th>pub_rec</th>\n",
       "      <td>-0.077779</td>\n",
       "      <td>0.060986</td>\n",
       "      <td>-0.067892</td>\n",
       "      <td>-0.013720</td>\n",
       "      <td>-0.017639</td>\n",
       "      <td>-0.018392</td>\n",
       "      <td>1.000000</td>\n",
       "      <td>-0.101664</td>\n",
       "      <td>-0.075910</td>\n",
       "      <td>0.019723</td>\n",
       "      <td>0.011552</td>\n",
       "      <td>0.699408</td>\n",
       "    </tr>\n",
       "    <tr>\n",
       "      <th>revol_bal</th>\n",
       "      <td>0.328320</td>\n",
       "      <td>-0.011280</td>\n",
       "      <td>0.316455</td>\n",
       "      <td>0.299773</td>\n",
       "      <td>0.063571</td>\n",
       "      <td>0.221192</td>\n",
       "      <td>-0.101664</td>\n",
       "      <td>1.000000</td>\n",
       "      <td>0.226346</td>\n",
       "      <td>0.191616</td>\n",
       "      <td>0.194925</td>\n",
       "      <td>-0.124532</td>\n",
       "    </tr>\n",
       "    <tr>\n",
       "      <th>revol_util</th>\n",
       "      <td>0.099911</td>\n",
       "      <td>0.293659</td>\n",
       "      <td>0.123915</td>\n",
       "      <td>0.027871</td>\n",
       "      <td>0.088375</td>\n",
       "      <td>-0.131420</td>\n",
       "      <td>-0.075910</td>\n",
       "      <td>0.226346</td>\n",
       "      <td>1.000000</td>\n",
       "      <td>-0.104273</td>\n",
       "      <td>0.007514</td>\n",
       "      <td>-0.086751</td>\n",
       "    </tr>\n",
       "    <tr>\n",
       "      <th>total_acc</th>\n",
       "      <td>0.223886</td>\n",
       "      <td>-0.036404</td>\n",
       "      <td>0.202430</td>\n",
       "      <td>0.193023</td>\n",
       "      <td>0.102128</td>\n",
       "      <td>0.680728</td>\n",
       "      <td>0.019723</td>\n",
       "      <td>0.191616</td>\n",
       "      <td>-0.104273</td>\n",
       "      <td>1.000000</td>\n",
       "      <td>0.381072</td>\n",
       "      <td>0.042035</td>\n",
       "    </tr>\n",
       "    <tr>\n",
       "      <th>mort_acc</th>\n",
       "      <td>0.222315</td>\n",
       "      <td>-0.082583</td>\n",
       "      <td>0.193694</td>\n",
       "      <td>0.236320</td>\n",
       "      <td>-0.025439</td>\n",
       "      <td>0.109205</td>\n",
       "      <td>0.011552</td>\n",
       "      <td>0.194925</td>\n",
       "      <td>0.007514</td>\n",
       "      <td>0.381072</td>\n",
       "      <td>1.000000</td>\n",
       "      <td>0.027239</td>\n",
       "    </tr>\n",
       "    <tr>\n",
       "      <th>pub_rec_bankruptcies</th>\n",
       "      <td>-0.106539</td>\n",
       "      <td>0.057450</td>\n",
       "      <td>-0.098628</td>\n",
       "      <td>-0.050162</td>\n",
       "      <td>-0.014558</td>\n",
       "      <td>-0.027732</td>\n",
       "      <td>0.699408</td>\n",
       "      <td>-0.124532</td>\n",
       "      <td>-0.086751</td>\n",
       "      <td>0.042035</td>\n",
       "      <td>0.027239</td>\n",
       "      <td>1.000000</td>\n",
       "    </tr>\n",
       "  </tbody>\n",
       "</table>\n",
       "</div>"
      ],
      "text/plain": [
       "                      loan_amnt  int_rate  installment  annual_inc       dti  \\\n",
       "loan_amnt              1.000000  0.168921     0.953929    0.336887  0.016636   \n",
       "int_rate               0.168921  1.000000     0.162758   -0.056771  0.079038   \n",
       "installment            0.953929  0.162758     1.000000    0.330381  0.015786   \n",
       "annual_inc             0.336887 -0.056771     0.330381    1.000000 -0.081685   \n",
       "dti                    0.016636  0.079038     0.015786   -0.081685  1.000000   \n",
       "open_acc               0.198556  0.011649     0.188973    0.136150  0.136181   \n",
       "pub_rec               -0.077779  0.060986    -0.067892   -0.013720 -0.017639   \n",
       "revol_bal              0.328320 -0.011280     0.316455    0.299773  0.063571   \n",
       "revol_util             0.099911  0.293659     0.123915    0.027871  0.088375   \n",
       "total_acc              0.223886 -0.036404     0.202430    0.193023  0.102128   \n",
       "mort_acc               0.222315 -0.082583     0.193694    0.236320 -0.025439   \n",
       "pub_rec_bankruptcies  -0.106539  0.057450    -0.098628   -0.050162 -0.014558   \n",
       "\n",
       "                      open_acc   pub_rec  revol_bal  revol_util  total_acc  \\\n",
       "loan_amnt             0.198556 -0.077779   0.328320    0.099911   0.223886   \n",
       "int_rate              0.011649  0.060986  -0.011280    0.293659  -0.036404   \n",
       "installment           0.188973 -0.067892   0.316455    0.123915   0.202430   \n",
       "annual_inc            0.136150 -0.013720   0.299773    0.027871   0.193023   \n",
       "dti                   0.136181 -0.017639   0.063571    0.088375   0.102128   \n",
       "open_acc              1.000000 -0.018392   0.221192   -0.131420   0.680728   \n",
       "pub_rec              -0.018392  1.000000  -0.101664   -0.075910   0.019723   \n",
       "revol_bal             0.221192 -0.101664   1.000000    0.226346   0.191616   \n",
       "revol_util           -0.131420 -0.075910   0.226346    1.000000  -0.104273   \n",
       "total_acc             0.680728  0.019723   0.191616   -0.104273   1.000000   \n",
       "mort_acc              0.109205  0.011552   0.194925    0.007514   0.381072   \n",
       "pub_rec_bankruptcies -0.027732  0.699408  -0.124532   -0.086751   0.042035   \n",
       "\n",
       "                      mort_acc  pub_rec_bankruptcies  \n",
       "loan_amnt             0.222315             -0.106539  \n",
       "int_rate             -0.082583              0.057450  \n",
       "installment           0.193694             -0.098628  \n",
       "annual_inc            0.236320             -0.050162  \n",
       "dti                  -0.025439             -0.014558  \n",
       "open_acc              0.109205             -0.027732  \n",
       "pub_rec               0.011552              0.699408  \n",
       "revol_bal             0.194925             -0.124532  \n",
       "revol_util            0.007514             -0.086751  \n",
       "total_acc             0.381072              0.042035  \n",
       "mort_acc              1.000000              0.027239  \n",
       "pub_rec_bankruptcies  0.027239              1.000000  "
      ]
     },
     "execution_count": 12,
     "metadata": {},
     "output_type": "execute_result"
    }
   ],
   "source": [
    "df.corr()"
   ]
  },
  {
   "cell_type": "markdown",
   "metadata": {},
   "source": [
    "**TASK: Visualize this using a heatmap. Depending on your version of matplotlib, you may need to manually adjust the heatmap.**\n",
    "\n",
    "* [Heatmap info](https://seaborn.pydata.org/generated/seaborn.heatmap.html#seaborn.heatmap)\n",
    "* [Help with resizing](https://stackoverflow.com/questions/56942670/matplotlib-seaborn-first-and-last-row-cut-in-half-of-heatmap-plot)"
   ]
  },
  {
   "cell_type": "code",
   "execution_count": 13,
   "metadata": {},
   "outputs": [
    {
     "data": {
      "text/plain": [
       "<AxesSubplot:>"
      ]
     },
     "execution_count": 13,
     "metadata": {},
     "output_type": "execute_result"
    },
    {
     "data": {
      "image/png": "[encoded data removed]",
      "text/plain": [
       "<Figure size 792x360 with 2 Axes>"
      ]
     },
     "metadata": {
      "needs_background": "light"
     },
     "output_type": "display_data"
    }
   ],
   "source": [
    "# CODE HERE\n",
    "plt.figure(figsize=(11,5))\n",
    "sns.heatmap(df.corr(), cmap='viridis', annot=True)\n"
   ]
  },
  {
   "cell_type": "markdown",
   "metadata": {},
   "source": [
    "**TASK: You should have noticed almost perfect correlation with the \"installment\" feature. Explore this feature further. Print out their descriptions and perform a scatterplot between them. Does this relationship make sense to you? Do you think there is duplicate information here?**"
   ]
  },
  {
   "cell_type": "code",
   "execution_count": 14,
   "metadata": {},
   "outputs": [
    {
     "name": "stdout",
     "output_type": "stream",
     "text": [
      "The listed amount of the loan applied for by the borrower. If at some point in time, the credit department reduces the loan amount, then it will be reflected in this value.\n",
      "The monthly payment owed by the borrower if the loan originates.\n"
     ]
    }
   ],
   "source": [
    "# CODE HERE\n",
    "print(data_info.loc['loan_amnt']['Description'])\n",
    "print(data_info.loc['installment']['Description'])"
   ]
  },
  {
   "cell_type": "code",
   "execution_count": 15,
   "metadata": {},
   "outputs": [
    {
     "data": {
      "text/plain": [
       "<AxesSubplot:xlabel='installment', ylabel='loan_amnt'>"
      ]
     },
     "execution_count": 15,
     "metadata": {},
     "output_type": "execute_result"
    },
    {
     "data": {
      "image/png": "[encoded data removed]",
      "text/plain": [
       "<Figure size 432x288 with 1 Axes>"
      ]
     },
     "metadata": {
      "needs_background": "light"
     },
     "output_type": "display_data"
    }
   ],
   "source": [
    "sns.scatterplot(x='installment',y='loan_amnt',data= df)"
   ]
  },
  {
   "cell_type": "markdown",
   "metadata": {},
   "source": [
    "**TASK: Create a boxplot showing the relationship between the loan_status and the Loan Amount.**"
   ]
  },
  {
   "cell_type": "code",
   "execution_count": 16,
   "metadata": {},
   "outputs": [
    {
     "data": {
      "text/plain": [
       "<AxesSubplot:xlabel='loan_status', ylabel='loan_amnt'>"
      ]
     },
     "execution_count": 16,
     "metadata": {},
     "output_type": "execute_result"
    },
    {
     "data": {
      "image/png": "[encoded data removed]",
      "text/plain": [
       "<Figure size 432x288 with 1 Axes>"
      ]
     },
     "metadata": {
      "needs_background": "light"
     },
     "output_type": "display_data"
    }
   ],
   "source": [
    "# CODE HERE\n",
    "sns.boxplot(data=df, orient=\"v\", x='loan_status',y='loan_amnt')"
   ]
  },
  {
   "cell_type": "markdown",
   "metadata": {},
   "source": [
    "**TASK: Calculate the summary statistics for the loan amount, grouped by the loan_status.**"
   ]
  },
  {
   "cell_type": "code",
   "execution_count": 17,
   "metadata": {},
   "outputs": [
    {
     "data": {
      "text/html": [
       "<div>\n",
       "<style scoped>\n",
       "    .dataframe tbody tr th:only-of-type {\n",
       "        vertical-align: middle;\n",
       "    }\n",
       "\n",
       "    .dataframe tbody tr th {\n",
       "        vertical-align: top;\n",
       "    }\n",
       "\n",
       "    .dataframe thead th {\n",
       "        text-align: right;\n",
       "    }\n",
       "</style>\n",
       "<table border=\"1\" class=\"dataframe\">\n",
       "  <thead>\n",
       "    <tr style=\"text-align: right;\">\n",
       "      <th></th>\n",
       "      <th>count</th>\n",
       "      <th>mean</th>\n",
       "      <th>std</th>\n",
       "      <th>min</th>\n",
       "      <th>25%</th>\n",
       "      <th>50%</th>\n",
       "      <th>75%</th>\n",
       "      <th>max</th>\n",
       "    </tr>\n",
       "    <tr>\n",
       "      <th>loan_status</th>\n",
       "      <th></th>\n",
       "      <th></th>\n",
       "      <th></th>\n",
       "      <th></th>\n",
       "      <th></th>\n",
       "      <th></th>\n",
       "      <th></th>\n",
       "      <th></th>\n",
       "    </tr>\n",
       "  </thead>\n",
       "  <tbody>\n",
       "    <tr>\n",
       "      <th>Charged Off</th>\n",
       "      <td>77673.0</td>\n",
       "      <td>15126.300967</td>\n",
       "      <td>8505.090557</td>\n",
       "      <td>1000.0</td>\n",
       "      <td>8525.0</td>\n",
       "      <td>14000.0</td>\n",
       "      <td>20000.0</td>\n",
       "      <td>40000.0</td>\n",
       "    </tr>\n",
       "    <tr>\n",
       "      <th>Fully Paid</th>\n",
       "      <td>318357.0</td>\n",
       "      <td>13866.878771</td>\n",
       "      <td>8302.319699</td>\n",
       "      <td>500.0</td>\n",
       "      <td>7500.0</td>\n",
       "      <td>12000.0</td>\n",
       "      <td>19225.0</td>\n",
       "      <td>40000.0</td>\n",
       "    </tr>\n",
       "  </tbody>\n",
       "</table>\n",
       "</div>"
      ],
      "text/plain": [
       "                count          mean          std     min     25%      50%  \\\n",
       "loan_status                                                                 \n",
       "Charged Off   77673.0  15126.300967  8505.090557  1000.0  8525.0  14000.0   \n",
       "Fully Paid   318357.0  13866.878771  8302.319699   500.0  7500.0  12000.0   \n",
       "\n",
       "                 75%      max  \n",
       "loan_status                    \n",
       "Charged Off  20000.0  40000.0  \n",
       "Fully Paid   19225.0  40000.0  "
      ]
     },
     "execution_count": 17,
     "metadata": {},
     "output_type": "execute_result"
    }
   ],
   "source": [
    "# CODE HERE\n",
    "df.groupby('loan_status')['loan_amnt'].describe()"
   ]
  },
  {
   "cell_type": "markdown",
   "metadata": {},
   "source": [
    "**TASK: Let's explore the Grade and SubGrade columns that LendingClub attributes to the loans. What are the unique possible grades and subgrades?**"
   ]
  },
  {
   "cell_type": "code",
   "execution_count": 18,
   "metadata": {},
   "outputs": [
    {
     "data": {
      "text/plain": [
       "array(['B', 'A', 'C', 'E', 'D', 'F', 'G'], dtype=object)"
      ]
     },
     "execution_count": 18,
     "metadata": {},
     "output_type": "execute_result"
    }
   ],
   "source": [
    "# CODE HERE\n",
    "df['grade'].unique()\n"
   ]
  },
  {
   "cell_type": "code",
   "execution_count": 19,
   "metadata": {},
   "outputs": [
    {
     "data": {
      "text/plain": [
       "array(['B4', 'B5', 'B3', 'A2', 'C5', 'C3', 'A1', 'B2', 'C1', 'A5', 'E4',\n",
       "       'A4', 'A3', 'D1', 'C2', 'B1', 'D3', 'D5', 'D2', 'E1', 'E2', 'E5',\n",
       "       'F4', 'E3', 'D4', 'G1', 'F5', 'G2', 'C4', 'F1', 'F3', 'G5', 'G4',\n",
       "       'F2', 'G3'], dtype=object)"
      ]
     },
     "execution_count": 19,
     "metadata": {},
     "output_type": "execute_result"
    }
   ],
   "source": [
    "df['sub_grade'].unique()"
   ]
  },
  {
   "cell_type": "markdown",
   "metadata": {},
   "source": [
    "**TASK: Create a countplot per grade. Set the hue to the loan_status label.**"
   ]
  },
  {
   "cell_type": "code",
   "execution_count": 20,
   "metadata": {},
   "outputs": [
    {
     "data": {
      "text/plain": [
       "<AxesSubplot:xlabel='grade', ylabel='Count'>"
      ]
     },
     "execution_count": 20,
     "metadata": {},
     "output_type": "execute_result"
    },
    {
     "data": {
      "image/png": "[encoded data removed]",
      "text/plain": [
       "<Figure size 432x288 with 1 Axes>"
      ]
     },
     "metadata": {
      "needs_background": "light"
     },
     "output_type": "display_data"
    }
   ],
   "source": [
    "# CODE HERE\n",
    "sns.histplot(data=df, x=\"grade\", hue=\"loan_status\", multiple=\"dodge\")"
   ]
  },
  {
   "cell_type": "markdown",
   "metadata": {},
   "source": [
    "**TASK: Display a count plot per subgrade. You may need to resize for this plot and [reorder](https://seaborn.pydata.org/generated/seaborn.countplot.html#seaborn.countplot) the x axis. Feel free to edit the color palette. Explore both all loans made per subgrade as well being separated based on the loan_status. After creating this plot, go ahead and create a similar plot, but set hue=\"loan_status\"**"
   ]
  },
  {
   "cell_type": "code",
   "execution_count": 21,
   "metadata": {},
   "outputs": [
    {
     "data": {
      "text/plain": [
       "<AxesSubplot:xlabel='sub_grade', ylabel='count'>"
      ]
     },
     "execution_count": 21,
     "metadata": {},
     "output_type": "execute_result"
    },
    {
     "data": {
      "image/png": "[encoded data removed]",
      "text/plain": [
       "<Figure size 864x288 with 1 Axes>"
      ]
     },
     "metadata": {
      "needs_background": "light"
     },
     "output_type": "display_data"
    }
   ],
   "source": [
    "#CODE HERE\n",
    "plt.figure(figsize=(12,4))\n",
    "shimatta=sorted(df['sub_grade'].unique())\n",
    "sns.countplot( data=df, x='sub_grade', order=shimatta)"
   ]
  },
  {
   "cell_type": "code",
   "execution_count": 22,
   "metadata": {},
   "outputs": [
    {
     "data": {
      "text/plain": [
       "<AxesSubplot:xlabel='sub_grade', ylabel='count'>"
      ]
     },
     "execution_count": 22,
     "metadata": {},
     "output_type": "execute_result"
    },
    {
     "data": {
      "image/png": "[encoded data removed]",
      "text/plain": [
       "<Figure size 864x360 with 1 Axes>"
      ]
     },
     "metadata": {
      "needs_background": "light"
     },
     "output_type": "display_data"
    }
   ],
   "source": [
    "# CODE HERE\n",
    "plt.figure(figsize=(12,5))\n",
    "sns.countplot(data=df, x='sub_grade', hue='loan_status', order=shimatta)"
   ]
  },
  {
   "cell_type": "markdown",
   "metadata": {},
   "source": [
    "**TASK: It looks like F and G subgrades don't get paid back that often. Isloate those and recreate the countplot just for those subgrades.**"
   ]
  },
  {
   "cell_type": "code",
   "execution_count": 23,
   "metadata": {},
   "outputs": [
    {
     "data": {
      "text/plain": [
       "<AxesSubplot:xlabel='sub_grade', ylabel='count'>"
      ]
     },
     "execution_count": 23,
     "metadata": {},
     "output_type": "execute_result"
    },
    {
     "data": {
      "image/png": "[encoded data removed]",
      "text/plain": [
       "<Figure size 864x288 with 1 Axes>"
      ]
     },
     "metadata": {
      "needs_background": "light"
     },
     "output_type": "display_data"
    }
   ],
   "source": [
    "# CODE HERE\n",
    "shimatta = df[(df['grade']=='G') | (df['grade']=='F')]\n",
    "\n",
    "plt.figure(figsize=(12,4))\n",
    "ordered_shimatta = sorted(shimatta['sub_grade'].unique())\n",
    "sns.countplot(x='sub_grade',data=shimatta,order = ordered_shimatta,hue='loan_status')"
   ]
  },
  {
   "cell_type": "markdown",
   "metadata": {},
   "source": [
    "**TASK: Create a new column called 'loan_repaid' which will contain a 1 if the loan status was \"Fully Paid\" and a 0 if it was \"Charged Off\".**"
   ]
  },
  {
   "cell_type": "code",
   "execution_count": 24,
   "metadata": {},
   "outputs": [],
   "source": [
    "# CODE HERE\n",
    "df['loan_repaid'] = df['loan_status'].apply( lambda x:1 if x==\"Fully Paid\" else 0)"
   ]
  },
  {
   "cell_type": "code",
   "execution_count": 25,
   "metadata": {},
   "outputs": [
    {
     "data": {
      "text/plain": [
       "0         1\n",
       "1         1\n",
       "2         1\n",
       "3         1\n",
       "4         0\n",
       "         ..\n",
       "396025    1\n",
       "396026    1\n",
       "396027    1\n",
       "396028    1\n",
       "396029    1\n",
       "Name: loan_repaid, Length: 396030, dtype: int64"
      ]
     },
     "execution_count": 25,
     "metadata": {},
     "output_type": "execute_result"
    }
   ],
   "source": [
    "df['loan_repaid']"
   ]
  },
  {
   "cell_type": "markdown",
   "metadata": {},
   "source": [
    "**CHALLENGE TASK: (Note this is hard, but can be done in one line!) Create a bar plot showing the correlation of the numeric features to the new loan_repaid column. [Helpful Link](https://pandas.pydata.org/pandas-docs/stable/reference/api/pandas.DataFrame.plot.bar.html)**"
   ]
  },
  {
   "cell_type": "code",
   "execution_count": 26,
   "metadata": {},
   "outputs": [],
   "source": [
    "#CODE HERE"
   ]
  },
  {
   "cell_type": "code",
   "execution_count": null,
   "metadata": {},
   "outputs": [],
   "source": []
  },
  {
   "cell_type": "markdown",
   "metadata": {},
   "source": [
    "---\n",
    "---\n",
    "# Section 2: Data PreProcessing\n",
    "\n",
    "**Section Goals: Remove or fill any missing data. Remove unnecessary or repetitive features. Convert categorical string features to dummy variables.**\n",
    "\n"
   ]
  },
  {
   "cell_type": "code",
   "execution_count": 27,
   "metadata": {},
   "outputs": [
    {
     "data": {
      "text/html": [
       "<div>\n",
       "<style scoped>\n",
       "    .dataframe tbody tr th:only-of-type {\n",
       "        vertical-align: middle;\n",
       "    }\n",
       "\n",
       "    .dataframe tbody tr th {\n",
       "        vertical-align: top;\n",
       "    }\n",
       "\n",
       "    .dataframe thead th {\n",
       "        text-align: right;\n",
       "    }\n",
       "</style>\n",
       "<table border=\"1\" class=\"dataframe\">\n",
       "  <thead>\n",
       "    <tr style=\"text-align: right;\">\n",
       "      <th></th>\n",
       "      <th>loan_amnt</th>\n",
       "      <th>term</th>\n",
       "      <th>int_rate</th>\n",
       "      <th>installment</th>\n",
       "      <th>grade</th>\n",
       "      <th>sub_grade</th>\n",
       "      <th>emp_title</th>\n",
       "      <th>emp_length</th>\n",
       "      <th>home_ownership</th>\n",
       "      <th>annual_inc</th>\n",
       "      <th>...</th>\n",
       "      <th>pub_rec</th>\n",
       "      <th>revol_bal</th>\n",
       "      <th>revol_util</th>\n",
       "      <th>total_acc</th>\n",
       "      <th>initial_list_status</th>\n",
       "      <th>application_type</th>\n",
       "      <th>mort_acc</th>\n",
       "      <th>pub_rec_bankruptcies</th>\n",
       "      <th>address</th>\n",
       "      <th>loan_repaid</th>\n",
       "    </tr>\n",
       "  </thead>\n",
       "  <tbody>\n",
       "    <tr>\n",
       "      <th>0</th>\n",
       "      <td>10000.0</td>\n",
       "      <td>36 months</td>\n",
       "      <td>11.44</td>\n",
       "      <td>329.48</td>\n",
       "      <td>B</td>\n",
       "      <td>B4</td>\n",
       "      <td>Marketing</td>\n",
       "      <td>10+ years</td>\n",
       "      <td>RENT</td>\n",
       "      <td>117000.0</td>\n",
       "      <td>...</td>\n",
       "      <td>0.0</td>\n",
       "      <td>36369.0</td>\n",
       "      <td>41.8</td>\n",
       "      <td>25.0</td>\n",
       "      <td>w</td>\n",
       "      <td>INDIVIDUAL</td>\n",
       "      <td>0.0</td>\n",
       "      <td>0.0</td>\n",
       "      <td>0174 Michelle Gateway\\nMendozaberg, OK 22690</td>\n",
       "      <td>1</td>\n",
       "    </tr>\n",
       "    <tr>\n",
       "      <th>1</th>\n",
       "      <td>8000.0</td>\n",
       "      <td>36 months</td>\n",
       "      <td>11.99</td>\n",
       "      <td>265.68</td>\n",
       "      <td>B</td>\n",
       "      <td>B5</td>\n",
       "      <td>Credit analyst</td>\n",
       "      <td>4 years</td>\n",
       "      <td>MORTGAGE</td>\n",
       "      <td>65000.0</td>\n",
       "      <td>...</td>\n",
       "      <td>0.0</td>\n",
       "      <td>20131.0</td>\n",
       "      <td>53.3</td>\n",
       "      <td>27.0</td>\n",
       "      <td>f</td>\n",
       "      <td>INDIVIDUAL</td>\n",
       "      <td>3.0</td>\n",
       "      <td>0.0</td>\n",
       "      <td>1076 Carney Fort Apt. 347\\nLoganmouth, SD 05113</td>\n",
       "      <td>1</td>\n",
       "    </tr>\n",
       "    <tr>\n",
       "      <th>2</th>\n",
       "      <td>15600.0</td>\n",
       "      <td>36 months</td>\n",
       "      <td>10.49</td>\n",
       "      <td>506.97</td>\n",
       "      <td>B</td>\n",
       "      <td>B3</td>\n",
       "      <td>Statistician</td>\n",
       "      <td>&lt; 1 year</td>\n",
       "      <td>RENT</td>\n",
       "      <td>43057.0</td>\n",
       "      <td>...</td>\n",
       "      <td>0.0</td>\n",
       "      <td>11987.0</td>\n",
       "      <td>92.2</td>\n",
       "      <td>26.0</td>\n",
       "      <td>f</td>\n",
       "      <td>INDIVIDUAL</td>\n",
       "      <td>0.0</td>\n",
       "      <td>0.0</td>\n",
       "      <td>87025 Mark Dale Apt. 269\\nNew Sabrina, WV 05113</td>\n",
       "      <td>1</td>\n",
       "    </tr>\n",
       "    <tr>\n",
       "      <th>3</th>\n",
       "      <td>7200.0</td>\n",
       "      <td>36 months</td>\n",
       "      <td>6.49</td>\n",
       "      <td>220.65</td>\n",
       "      <td>A</td>\n",
       "      <td>A2</td>\n",
       "      <td>Client Advocate</td>\n",
       "      <td>6 years</td>\n",
       "      <td>RENT</td>\n",
       "      <td>54000.0</td>\n",
       "      <td>...</td>\n",
       "      <td>0.0</td>\n",
       "      <td>5472.0</td>\n",
       "      <td>21.5</td>\n",
       "      <td>13.0</td>\n",
       "      <td>f</td>\n",
       "      <td>INDIVIDUAL</td>\n",
       "      <td>0.0</td>\n",
       "      <td>0.0</td>\n",
       "      <td>823 Reid Ford\\nDelacruzside, MA 00813</td>\n",
       "      <td>1</td>\n",
       "    </tr>\n",
       "    <tr>\n",
       "      <th>4</th>\n",
       "      <td>24375.0</td>\n",
       "      <td>60 months</td>\n",
       "      <td>17.27</td>\n",
       "      <td>609.33</td>\n",
       "      <td>C</td>\n",
       "      <td>C5</td>\n",
       "      <td>Destiny Management Inc.</td>\n",
       "      <td>9 years</td>\n",
       "      <td>MORTGAGE</td>\n",
       "      <td>55000.0</td>\n",
       "      <td>...</td>\n",
       "      <td>0.0</td>\n",
       "      <td>24584.0</td>\n",
       "      <td>69.8</td>\n",
       "      <td>43.0</td>\n",
       "      <td>f</td>\n",
       "      <td>INDIVIDUAL</td>\n",
       "      <td>1.0</td>\n",
       "      <td>0.0</td>\n",
       "      <td>679 Luna Roads\\nGreggshire, VA 11650</td>\n",
       "      <td>0</td>\n",
       "    </tr>\n",
       "  </tbody>\n",
       "</table>\n",
       "<p>5 rows × 28 columns</p>\n",
       "</div>"
      ],
      "text/plain": [
       "   loan_amnt        term  int_rate  installment grade sub_grade  \\\n",
       "0    10000.0   36 months     11.44       329.48     B        B4   \n",
       "1     8000.0   36 months     11.99       265.68     B        B5   \n",
       "2    15600.0   36 months     10.49       506.97     B        B3   \n",
       "3     7200.0   36 months      6.49       220.65     A        A2   \n",
       "4    24375.0   60 months     17.27       609.33     C        C5   \n",
       "\n",
       "                 emp_title emp_length home_ownership  annual_inc  ... pub_rec  \\\n",
       "0                Marketing  10+ years           RENT    117000.0  ...     0.0   \n",
       "1          Credit analyst     4 years       MORTGAGE     65000.0  ...     0.0   \n",
       "2             Statistician   < 1 year           RENT     43057.0  ...     0.0   \n",
       "3          Client Advocate    6 years           RENT     54000.0  ...     0.0   \n",
       "4  Destiny Management Inc.    9 years       MORTGAGE     55000.0  ...     0.0   \n",
       "\n",
       "  revol_bal revol_util total_acc initial_list_status  application_type  \\\n",
       "0   36369.0       41.8      25.0                   w        INDIVIDUAL   \n",
       "1   20131.0       53.3      27.0                   f        INDIVIDUAL   \n",
       "2   11987.0       92.2      26.0                   f        INDIVIDUAL   \n",
       "3    5472.0       21.5      13.0                   f        INDIVIDUAL   \n",
       "4   24584.0       69.8      43.0                   f        INDIVIDUAL   \n",
       "\n",
       "  mort_acc  pub_rec_bankruptcies  \\\n",
       "0      0.0                   0.0   \n",
       "1      3.0                   0.0   \n",
       "2      0.0                   0.0   \n",
       "3      0.0                   0.0   \n",
       "4      1.0                   0.0   \n",
       "\n",
       "                                           address  loan_repaid  \n",
       "0     0174 Michelle Gateway\\nMendozaberg, OK 22690            1  \n",
       "1  1076 Carney Fort Apt. 347\\nLoganmouth, SD 05113            1  \n",
       "2  87025 Mark Dale Apt. 269\\nNew Sabrina, WV 05113            1  \n",
       "3            823 Reid Ford\\nDelacruzside, MA 00813            1  \n",
       "4             679 Luna Roads\\nGreggshire, VA 11650            0  \n",
       "\n",
       "[5 rows x 28 columns]"
      ]
     },
     "execution_count": 27,
     "metadata": {},
     "output_type": "execute_result"
    }
   ],
   "source": [
    "df.head()"
   ]
  },
  {
   "cell_type": "markdown",
   "metadata": {},
   "source": [
    "# Missing Data\n",
    "\n",
    "**Let's explore this missing data columns. We use a variety of factors to decide whether or not they would be useful, to see if we should keep, discard, or fill in the missing data.**"
   ]
  },
  {
   "cell_type": "markdown",
   "metadata": {},
   "source": [
    "**TASK: What is the length of the dataframe?**"
   ]
  },
  {
   "cell_type": "code",
   "execution_count": 28,
   "metadata": {},
   "outputs": [],
   "source": [
    "# CODE HERE"
   ]
  },
  {
   "cell_type": "code",
   "execution_count": 29,
   "metadata": {},
   "outputs": [
    {
     "data": {
      "text/plain": [
       "(396030, 28)"
      ]
     },
     "execution_count": 29,
     "metadata": {},
     "output_type": "execute_result"
    }
   ],
   "source": [
    "df.shape"
   ]
  },
  {
   "cell_type": "markdown",
   "metadata": {},
   "source": [
    "**TASK: Create a Series that displays the total count of missing values per column.**"
   ]
  },
  {
   "cell_type": "code",
   "execution_count": 30,
   "metadata": {},
   "outputs": [
    {
     "data": {
      "text/plain": [
       "loan_amnt                   0\n",
       "term                        0\n",
       "int_rate                    0\n",
       "installment                 0\n",
       "grade                       0\n",
       "sub_grade                   0\n",
       "emp_title               22927\n",
       "emp_length              18301\n",
       "home_ownership              0\n",
       "annual_inc                  0\n",
       "verification_status         0\n",
       "issue_d                     0\n",
       "loan_status                 0\n",
       "purpose                     0\n",
       "title                    1755\n",
       "dti                         0\n",
       "earliest_cr_line            0\n",
       "open_acc                    0\n",
       "pub_rec                     0\n",
       "revol_bal                   0\n",
       "revol_util                276\n",
       "total_acc                   0\n",
       "initial_list_status         0\n",
       "application_type            0\n",
       "mort_acc                37795\n",
       "pub_rec_bankruptcies      535\n",
       "address                     0\n",
       "loan_repaid                 0\n",
       "dtype: int64"
      ]
     },
     "execution_count": 30,
     "metadata": {},
     "output_type": "execute_result"
    }
   ],
   "source": [
    "# CODE HERE\n",
    "df.isnull().sum()"
   ]
  },
  {
   "cell_type": "markdown",
   "metadata": {},
   "source": [
    "**TASK: Convert this Series to be in term of percentage of the total DataFrame**"
   ]
  },
  {
   "cell_type": "code",
   "execution_count": 31,
   "metadata": {},
   "outputs": [
    {
     "data": {
      "text/plain": [
       "loan_amnt               0.000000\n",
       "term                    0.000000\n",
       "int_rate                0.000000\n",
       "installment             0.000000\n",
       "grade                   0.000000\n",
       "sub_grade               0.000000\n",
       "emp_title               5.789208\n",
       "emp_length              4.621115\n",
       "home_ownership          0.000000\n",
       "annual_inc              0.000000\n",
       "verification_status     0.000000\n",
       "issue_d                 0.000000\n",
       "loan_status             0.000000\n",
       "purpose                 0.000000\n",
       "title                   0.443148\n",
       "dti                     0.000000\n",
       "earliest_cr_line        0.000000\n",
       "open_acc                0.000000\n",
       "pub_rec                 0.000000\n",
       "revol_bal               0.000000\n",
       "revol_util              0.069692\n",
       "total_acc               0.000000\n",
       "initial_list_status     0.000000\n",
       "application_type        0.000000\n",
       "mort_acc                9.543469\n",
       "pub_rec_bankruptcies    0.135091\n",
       "address                 0.000000\n",
       "loan_repaid             0.000000\n",
       "dtype: float64"
      ]
     },
     "execution_count": 31,
     "metadata": {},
     "output_type": "execute_result"
    }
   ],
   "source": [
    "# CODE HERE\n",
    "df.isnull().sum() * 100 / len(df)"
   ]
  },
  {
   "cell_type": "markdown",
   "metadata": {},
   "source": [
    "**TASK: Let's examine emp_title and emp_length to see whether it will be okay to drop them. Print out their feature information using the feat_info() function from the top of this notebook.**"
   ]
  },
  {
   "cell_type": "code",
   "execution_count": 32,
   "metadata": {},
   "outputs": [
    {
     "name": "stdout",
     "output_type": "stream",
     "text": [
      "The job title supplied by the Borrower when applying for the loan.*\n",
      "Employment length in years. Possible values are between 0 and 10 where 0 means less than one year and 10 means ten or more years. \n"
     ]
    }
   ],
   "source": [
    "# CODE HERE\n",
    "feat_info('emp_title')\n",
    "feat_info('emp_length')"
   ]
  },
  {
   "cell_type": "markdown",
   "metadata": {},
   "source": [
    "**TASK: How many unique employment job titles are there?**"
   ]
  },
  {
   "cell_type": "code",
   "execution_count": 33,
   "metadata": {},
   "outputs": [
    {
     "data": {
      "text/plain": [
       "173105"
      ]
     },
     "execution_count": 33,
     "metadata": {},
     "output_type": "execute_result"
    }
   ],
   "source": [
    "# CODE HERE\n",
    "df['emp_title'].nunique()"
   ]
  },
  {
   "cell_type": "markdown",
   "metadata": {},
   "source": [
    "**TASK: Realistically there are too many unique job titles to try to convert this to a dummy variable feature. Let's remove that emp_title column.**"
   ]
  },
  {
   "cell_type": "code",
   "execution_count": 34,
   "metadata": {},
   "outputs": [],
   "source": [
    "# CODE HERE\n",
    "df = df.drop('emp_title',axis=1)"
   ]
  },
  {
   "cell_type": "markdown",
   "metadata": {},
   "source": [
    "**TASK: Create a count plot of the emp_length feature column. Challenge: Sort the order of the values.**"
   ]
  },
  {
   "cell_type": "code",
   "execution_count": 35,
   "metadata": {},
   "outputs": [
    {
     "data": {
      "text/plain": [
       "array(['10+ years', '4 years', '< 1 year', '6 years', '9 years',\n",
       "       '2 years', '3 years', '8 years', '7 years', '5 years', '1 year',\n",
       "       nan], dtype=object)"
      ]
     },
     "execution_count": 35,
     "metadata": {},
     "output_type": "execute_result"
    }
   ],
   "source": [
    "# CODE HERE\n",
    "temp2 = df.emp_length.unique()\n",
    "temp2"
   ]
  },
  {
   "cell_type": "code",
   "execution_count": 36,
   "metadata": {},
   "outputs": [
    {
     "data": {
      "text/plain": [
       "<AxesSubplot:xlabel='emp_length', ylabel='count'>"
      ]
     },
     "execution_count": 36,
     "metadata": {},
     "output_type": "execute_result"
    },
    {
     "data": {
      "image/png": "[encoded data removed]",
      "text/plain": [
       "<Figure size 864x288 with 1 Axes>"
      ]
     },
     "metadata": {
      "needs_background": "light"
     },
     "output_type": "display_data"
    }
   ],
   "source": [
    "plt.figure(figsize=(12,4))\n",
    "sns.countplot(data=df, x='emp_length', order=temp2 )"
   ]
  },
  {
   "cell_type": "markdown",
   "metadata": {},
   "source": [
    "**TASK: Plot out the countplot with a hue separating Fully Paid vs Charged Off**"
   ]
  },
  {
   "cell_type": "code",
   "execution_count": 37,
   "metadata": {},
   "outputs": [
    {
     "data": {
      "text/plain": [
       "<AxesSubplot:xlabel='emp_length', ylabel='count'>"
      ]
     },
     "execution_count": 37,
     "metadata": {},
     "output_type": "execute_result"
    },
    {
     "data": {
      "image/png": "[encoded data removed]",
      "text/plain": [
       "<Figure size 432x288 with 1 Axes>"
      ]
     },
     "metadata": {
      "needs_background": "light"
     },
     "output_type": "display_data"
    }
   ],
   "source": [
    "# CODE HERE\n",
    "sns.countplot(x='emp_length',data=df,hue='loan_status')"
   ]
  },
  {
   "cell_type": "markdown",
   "metadata": {},
   "source": [
    "**CHALLENGE TASK: This still doesn't really inform us if there is a strong relationship between employment length and being charged off, what we want is the percentage of charge offs per category. Essentially informing us what percent of people per employment category didn't pay back their loan. There are a multitude of ways to create this Series. Once you've created it, see if visualize it with a [bar plot](https://pandas.pydata.org/pandas-docs/version/0.23.4/generated/pandas.DataFrame.plot.html). This may be tricky, refer to solutions if you get stuck on creating this Series.**"
   ]
  },
  {
   "cell_type": "code",
   "execution_count": 38,
   "metadata": {},
   "outputs": [],
   "source": [
    "# CODE HERE\n",
    "chargedOff = df[df['loan_status']==\"Charged Off\"].groupby(\"emp_length\").count()['loan_status']"
   ]
  },
  {
   "cell_type": "code",
   "execution_count": 39,
   "metadata": {},
   "outputs": [],
   "source": [
    "fullyPaid = df[df['loan_status']==\"Fully Paid\"].groupby(\"emp_length\").count()['loan_status']"
   ]
  },
  {
   "cell_type": "code",
   "execution_count": 40,
   "metadata": {},
   "outputs": [
    {
     "data": {
      "text/plain": [
       "emp_length\n",
       "1 year        20728\n",
       "10+ years    102826\n",
       "2 years       28903\n",
       "3 years       25483\n",
       "4 years       19344\n",
       "5 years       21403\n",
       "6 years       16898\n",
       "7 years       16764\n",
       "8 years       15339\n",
       "9 years       12244\n",
       "< 1 year      25162\n",
       "Name: loan_status, dtype: int64"
      ]
     },
     "execution_count": 40,
     "metadata": {},
     "output_type": "execute_result"
    }
   ],
   "source": [
    "fullyPaid"
   ]
  },
  {
   "cell_type": "code",
   "execution_count": 41,
   "metadata": {},
   "outputs": [
    {
     "data": {
      "text/plain": [
       "emp_length\n",
       "1 year       0.248649\n",
       "10+ years    0.225770\n",
       "2 years      0.239560\n",
       "3 years      0.242593\n",
       "4 years      0.238213\n",
       "5 years      0.237911\n",
       "6 years      0.233341\n",
       "7 years      0.241887\n",
       "8 years      0.249625\n",
       "9 years      0.250735\n",
       "< 1 year     0.260830\n",
       "Name: loan_status, dtype: float64"
      ]
     },
     "execution_count": 41,
     "metadata": {},
     "output_type": "execute_result"
    }
   ],
   "source": [
    "emp_len = chargedOff/ fullyPaid\n",
    "emp_len"
   ]
  },
  {
   "cell_type": "code",
   "execution_count": 42,
   "metadata": {},
   "outputs": [
    {
     "data": {
      "text/plain": [
       "<AxesSubplot:xlabel='emp_length'>"
      ]
     },
     "execution_count": 42,
     "metadata": {},
     "output_type": "execute_result"
    },
    {
     "data": {
      "image/png": "[encoded data removed]",
      "text/plain": [
       "<Figure size 432x288 with 1 Axes>"
      ]
     },
     "metadata": {
      "needs_background": "light"
     },
     "output_type": "display_data"
    }
   ],
   "source": [
    "emp_len.plot(kind='bar')"
   ]
  },
  {
   "cell_type": "markdown",
   "metadata": {},
   "source": [
    "**TASK: Charge off rates are extremely similar across all employment lengths. Go ahead and drop the emp_length column.**"
   ]
  },
  {
   "cell_type": "code",
   "execution_count": 43,
   "metadata": {},
   "outputs": [],
   "source": [
    "# CODE HERE\n",
    "df = df.drop('emp_length', axis=1)"
   ]
  },
  {
   "cell_type": "markdown",
   "metadata": {},
   "source": [
    "**TASK: Revisit the DataFrame to see what feature columns still have missing data.**"
   ]
  },
  {
   "cell_type": "code",
   "execution_count": 44,
   "metadata": {},
   "outputs": [
    {
     "data": {
      "text/plain": [
       "loan_amnt                   0\n",
       "term                        0\n",
       "int_rate                    0\n",
       "installment                 0\n",
       "grade                       0\n",
       "sub_grade                   0\n",
       "home_ownership              0\n",
       "annual_inc                  0\n",
       "verification_status         0\n",
       "issue_d                     0\n",
       "loan_status                 0\n",
       "purpose                     0\n",
       "title                    1755\n",
       "dti                         0\n",
       "earliest_cr_line            0\n",
       "open_acc                    0\n",
       "pub_rec                     0\n",
       "revol_bal                   0\n",
       "revol_util                276\n",
       "total_acc                   0\n",
       "initial_list_status         0\n",
       "application_type            0\n",
       "mort_acc                37795\n",
       "pub_rec_bankruptcies      535\n",
       "address                     0\n",
       "loan_repaid                 0\n",
       "dtype: int64"
      ]
     },
     "execution_count": 44,
     "metadata": {},
     "output_type": "execute_result"
    }
   ],
   "source": [
    "df.isnull().sum()\n"
   ]
  },
  {
   "cell_type": "markdown",
   "metadata": {},
   "source": [
    "**TASK: Review the title column vs the purpose column. Is this repeated information?**"
   ]
  },
  {
   "cell_type": "code",
   "execution_count": 45,
   "metadata": {},
   "outputs": [],
   "source": [
    "# CODE HERE"
   ]
  },
  {
   "cell_type": "code",
   "execution_count": 46,
   "metadata": {},
   "outputs": [
    {
     "data": {
      "text/plain": [
       "0              vacation\n",
       "1    debt_consolidation\n",
       "2           credit_card\n",
       "3           credit_card\n",
       "4           credit_card\n",
       "5    debt_consolidation\n",
       "6      home_improvement\n",
       "7           credit_card\n",
       "8    debt_consolidation\n",
       "9    debt_consolidation\n",
       "Name: purpose, dtype: object"
      ]
     },
     "execution_count": 46,
     "metadata": {},
     "output_type": "execute_result"
    }
   ],
   "source": [
    "df['purpose'].head(10)"
   ]
  },
  {
   "cell_type": "code",
   "execution_count": 47,
   "metadata": {},
   "outputs": [
    {
     "data": {
      "text/plain": [
       "0                   Vacation\n",
       "1         Debt consolidation\n",
       "2    Credit card refinancing\n",
       "3    Credit card refinancing\n",
       "4      Credit Card Refinance\n",
       "5         Debt consolidation\n",
       "6           Home improvement\n",
       "7       No More Credit Cards\n",
       "8         Debt consolidation\n",
       "9         Debt Consolidation\n",
       "Name: title, dtype: object"
      ]
     },
     "execution_count": 47,
     "metadata": {},
     "output_type": "execute_result"
    }
   ],
   "source": [
    "df['title'].head(10)"
   ]
  },
  {
   "cell_type": "markdown",
   "metadata": {},
   "source": [
    "**TASK: The title column is simply a string subcategory/description of the purpose column. Go ahead and drop the title column.**"
   ]
  },
  {
   "cell_type": "code",
   "execution_count": 48,
   "metadata": {},
   "outputs": [],
   "source": [
    "# CODE HERE\n",
    "df = df.drop('title',axis=1)"
   ]
  },
  {
   "cell_type": "markdown",
   "metadata": {},
   "source": [
    "---\n",
    "**NOTE: This is one of the hardest parts of the project! Refer to the solutions video if you need guidance, feel free to fill or drop the missing values of the mort_acc however you see fit! Here we're going with a very specific approach.**\n",
    "\n",
    "\n",
    "---\n",
    "**TASK: Find out what the mort_acc feature represents**"
   ]
  },
  {
   "cell_type": "code",
   "execution_count": 49,
   "metadata": {},
   "outputs": [
    {
     "name": "stdout",
     "output_type": "stream",
     "text": [
      "Number of mortgage accounts.\n"
     ]
    }
   ],
   "source": [
    "feat_info('mort_acc')\n",
    "# CODE HERE"
   ]
  },
  {
   "cell_type": "markdown",
   "metadata": {},
   "source": [
    "**TASK: Create a value_counts of the mort_acc column.**"
   ]
  },
  {
   "cell_type": "code",
   "execution_count": 50,
   "metadata": {},
   "outputs": [
    {
     "data": {
      "text/plain": [
       "0.0     139777\n",
       "1.0      60416\n",
       "2.0      49948\n",
       "3.0      38049\n",
       "4.0      27887\n",
       "5.0      18194\n",
       "6.0      11069\n",
       "7.0       6052\n",
       "8.0       3121\n",
       "9.0       1656\n",
       "10.0       865\n",
       "11.0       479\n",
       "12.0       264\n",
       "13.0       146\n",
       "14.0       107\n",
       "15.0        61\n",
       "16.0        37\n",
       "17.0        22\n",
       "18.0        18\n",
       "19.0        15\n",
       "20.0        13\n",
       "24.0        10\n",
       "22.0         7\n",
       "21.0         4\n",
       "25.0         4\n",
       "27.0         3\n",
       "23.0         2\n",
       "32.0         2\n",
       "26.0         2\n",
       "31.0         2\n",
       "30.0         1\n",
       "28.0         1\n",
       "34.0         1\n",
       "Name: mort_acc, dtype: int64"
      ]
     },
     "execution_count": 50,
     "metadata": {},
     "output_type": "execute_result"
    }
   ],
   "source": [
    "# CODE HERE\n",
    "df['mort_acc'].value_counts()"
   ]
  },
  {
   "cell_type": "markdown",
   "metadata": {},
   "source": [
    "**TASK: There are many ways we could deal with this missing data. We could attempt to build a simple model to fill it in, such as a linear model, we could just fill it in based on the mean of the other columns, or you could even bin the columns into categories and then set NaN as its own category. There is no 100% correct approach! Let's review the other columsn to see which most highly correlates to mort_acc**"
   ]
  },
  {
   "cell_type": "code",
   "execution_count": 51,
   "metadata": {},
   "outputs": [
    {
     "data": {
      "text/plain": [
       "loan_amnt               0.222315\n",
       "int_rate               -0.082583\n",
       "installment             0.193694\n",
       "annual_inc              0.236320\n",
       "dti                    -0.025439\n",
       "open_acc                0.109205\n",
       "pub_rec                 0.011552\n",
       "revol_bal               0.194925\n",
       "revol_util              0.007514\n",
       "total_acc               0.381072\n",
       "mort_acc                1.000000\n",
       "pub_rec_bankruptcies    0.027239\n",
       "loan_repaid             0.073111\n",
       "Name: mort_acc, dtype: float64"
      ]
     },
     "execution_count": 51,
     "metadata": {},
     "output_type": "execute_result"
    }
   ],
   "source": [
    "df.corr()['mort_acc']"
   ]
  },
  {
   "cell_type": "markdown",
   "metadata": {},
   "source": [
    "**TASK: Looks like the total_acc feature correlates with the mort_acc , this makes sense! Let's try this fillna() approach. We will group the dataframe by the total_acc and calculate the mean value for the mort_acc per total_acc entry. To get the result below:**"
   ]
  },
  {
   "cell_type": "code",
   "execution_count": 52,
   "metadata": {},
   "outputs": [
    {
     "data": {
      "text/plain": [
       "total_acc\n",
       "2.0      0.000000\n",
       "3.0      0.052023\n",
       "4.0      0.066743\n",
       "5.0      0.103289\n",
       "6.0      0.151293\n",
       "           ...   \n",
       "124.0    1.000000\n",
       "129.0    1.000000\n",
       "135.0    3.000000\n",
       "150.0    2.000000\n",
       "151.0    0.000000\n",
       "Name: mort_acc, Length: 118, dtype: float64"
      ]
     },
     "execution_count": 52,
     "metadata": {},
     "output_type": "execute_result"
    }
   ],
   "source": [
    "df.groupby('total_acc').mean()['mort_acc']"
   ]
  },
  {
   "cell_type": "markdown",
   "metadata": {},
   "source": [
    "**CHALLENGE TASK: Let's fill in the missing mort_acc values based on their total_acc value. If the mort_acc is missing, then we will fill in that missing value with the mean value corresponding to its total_acc value from the Series we created above. This involves using an .apply() method with two columns. Check out the link below for more info, or review the solutions video/notebook.**\n",
    "\n",
    "[Helpful Link](https://stackoverflow.com/questions/13331698/how-to-apply-a-function-to-two-columns-of-pandas-dataframe) "
   ]
  },
  {
   "cell_type": "code",
   "execution_count": 53,
   "metadata": {},
   "outputs": [],
   "source": [
    "# CODE HERE\n",
    "temp4 = df.groupby('total_acc').mean()['mort_acc']"
   ]
  },
  {
   "cell_type": "code",
   "execution_count": 54,
   "metadata": {},
   "outputs": [
    {
     "data": {
      "text/plain": [
       "0.0"
      ]
     },
     "execution_count": 54,
     "metadata": {},
     "output_type": "execute_result"
    }
   ],
   "source": [
    "temp4[2.0]"
   ]
  },
  {
   "cell_type": "code",
   "execution_count": 55,
   "metadata": {},
   "outputs": [],
   "source": [
    "def shimatta(x,y):\n",
    "    if np.isnan(x):\n",
    "        return temp4[y]\n",
    "    else:\n",
    "        return x"
   ]
  },
  {
   "cell_type": "code",
   "execution_count": 56,
   "metadata": {},
   "outputs": [],
   "source": [
    "df['mort_acc'] = df.apply(lambda i: shimatta(i['mort_acc'], i['total_acc']), axis=1)"
   ]
  },
  {
   "cell_type": "code",
   "execution_count": 57,
   "metadata": {},
   "outputs": [
    {
     "data": {
      "text/plain": [
       "loan_amnt                 0\n",
       "term                      0\n",
       "int_rate                  0\n",
       "installment               0\n",
       "grade                     0\n",
       "sub_grade                 0\n",
       "home_ownership            0\n",
       "annual_inc                0\n",
       "verification_status       0\n",
       "issue_d                   0\n",
       "loan_status               0\n",
       "purpose                   0\n",
       "dti                       0\n",
       "earliest_cr_line          0\n",
       "open_acc                  0\n",
       "pub_rec                   0\n",
       "revol_bal                 0\n",
       "revol_util              276\n",
       "total_acc                 0\n",
       "initial_list_status       0\n",
       "application_type          0\n",
       "mort_acc                  0\n",
       "pub_rec_bankruptcies    535\n",
       "address                   0\n",
       "loan_repaid               0\n",
       "dtype: int64"
      ]
     },
     "execution_count": 57,
     "metadata": {},
     "output_type": "execute_result"
    }
   ],
   "source": [
    "df.isnull().sum()"
   ]
  },
  {
   "cell_type": "markdown",
   "metadata": {},
   "source": [
    "**TASK: revol_util and the pub_rec_bankruptcies have missing data points, but they account for less than 0.5% of the total data. Go ahead and remove the rows that are missing those values in those columns with dropna().**"
   ]
  },
  {
   "cell_type": "code",
   "execution_count": 58,
   "metadata": {},
   "outputs": [],
   "source": [
    "# CODE HERE"
   ]
  },
  {
   "cell_type": "code",
   "execution_count": 59,
   "metadata": {},
   "outputs": [],
   "source": [
    "df = df.dropna()"
   ]
  },
  {
   "cell_type": "code",
   "execution_count": 60,
   "metadata": {
    "scrolled": true
   },
   "outputs": [
    {
     "data": {
      "text/plain": [
       "loan_amnt               0\n",
       "term                    0\n",
       "int_rate                0\n",
       "installment             0\n",
       "grade                   0\n",
       "sub_grade               0\n",
       "home_ownership          0\n",
       "annual_inc              0\n",
       "verification_status     0\n",
       "issue_d                 0\n",
       "loan_status             0\n",
       "purpose                 0\n",
       "dti                     0\n",
       "earliest_cr_line        0\n",
       "open_acc                0\n",
       "pub_rec                 0\n",
       "revol_bal               0\n",
       "revol_util              0\n",
       "total_acc               0\n",
       "initial_list_status     0\n",
       "application_type        0\n",
       "mort_acc                0\n",
       "pub_rec_bankruptcies    0\n",
       "address                 0\n",
       "loan_repaid             0\n",
       "dtype: int64"
      ]
     },
     "execution_count": 60,
     "metadata": {},
     "output_type": "execute_result"
    }
   ],
   "source": [
    "df.isnull().sum()"
   ]
  },
  {
   "cell_type": "markdown",
   "metadata": {},
   "source": [
    "## Categorical Variables and Dummy Variables\n",
    "\n",
    "**We're done working with the missing data! Now we just need to deal with the string values due to the categorical columns.**\n",
    "\n",
    "**TASK: List all the columns that are currently non-numeric. [Helpful Link](https://stackoverflow.com/questions/22470690/get-list-of-pandas-dataframe-columns-based-on-data-type)**\n",
    "\n",
    "[Another very useful method call](https://pandas.pydata.org/pandas-docs/stable/reference/api/pandas.DataFrame.select_dtypes.html)"
   ]
  },
  {
   "cell_type": "code",
   "execution_count": 61,
   "metadata": {},
   "outputs": [
    {
     "data": {
      "text/plain": [
       "Index(['term', 'grade', 'sub_grade', 'home_ownership', 'verification_status',\n",
       "       'issue_d', 'loan_status', 'purpose', 'earliest_cr_line',\n",
       "       'initial_list_status', 'application_type', 'address'],\n",
       "      dtype='object')"
      ]
     },
     "execution_count": 61,
     "metadata": {},
     "output_type": "execute_result"
    }
   ],
   "source": [
    "# CODE HERE\n",
    "df.select_dtypes(['object']).columns"
   ]
  },
  {
   "cell_type": "markdown",
   "metadata": {},
   "source": [
    "---\n",
    "**Let's now go through all the string features to see what we should do with them.**\n",
    "\n",
    "---\n",
    "\n",
    "\n",
    "### term feature\n",
    "\n",
    "**TASK: Convert the term feature into either a 36 or 60 integer numeric data type using .apply() or .map().**"
   ]
  },
  {
   "cell_type": "code",
   "execution_count": 62,
   "metadata": {},
   "outputs": [
    {
     "data": {
      "text/plain": [
       " 36 months    301247\n",
       " 60 months     93972\n",
       "Name: term, dtype: int64"
      ]
     },
     "execution_count": 62,
     "metadata": {},
     "output_type": "execute_result"
    }
   ],
   "source": [
    "# CODE HERE\n",
    "df['term'].value_counts()\n"
   ]
  },
  {
   "cell_type": "code",
   "execution_count": 63,
   "metadata": {},
   "outputs": [],
   "source": [
    "df['term'] = df['term'].apply(lambda term: int(term[:3]))\n"
   ]
  },
  {
   "cell_type": "code",
   "execution_count": 64,
   "metadata": {},
   "outputs": [
    {
     "data": {
      "text/plain": [
       "0         36\n",
       "1         36\n",
       "2         36\n",
       "3         36\n",
       "4         60\n",
       "          ..\n",
       "396025    60\n",
       "396026    36\n",
       "396027    36\n",
       "396028    60\n",
       "396029    36\n",
       "Name: term, Length: 395219, dtype: int64"
      ]
     },
     "execution_count": 64,
     "metadata": {},
     "output_type": "execute_result"
    }
   ],
   "source": [
    "df['term']"
   ]
  },
  {
   "cell_type": "markdown",
   "metadata": {},
   "source": [
    "### grade feature\n",
    "\n",
    "**TASK: We already know grade is part of sub_grade, so just drop the grade feature.**"
   ]
  },
  {
   "cell_type": "code",
   "execution_count": 65,
   "metadata": {},
   "outputs": [],
   "source": [
    "# CODE HERE\n",
    "df = df.drop('grade', axis=1)"
   ]
  },
  {
   "cell_type": "markdown",
   "metadata": {},
   "source": [
    "**TASK: Convert the subgrade into dummy variables. Then concatenate these new columns to the original dataframe. Remember to drop the original subgrade column and to add drop_first=True to your get_dummies call.**"
   ]
  },
  {
   "cell_type": "code",
   "execution_count": 66,
   "metadata": {},
   "outputs": [],
   "source": [
    "# CODE HERE\n",
    "temp5 = pd.get_dummies(df['sub_grade'], drop_first=True)"
   ]
  },
  {
   "cell_type": "code",
   "execution_count": 67,
   "metadata": {},
   "outputs": [],
   "source": [
    "df = pd.concat([df,temp5],axis=1)"
   ]
  },
  {
   "cell_type": "code",
   "execution_count": 68,
   "metadata": {},
   "outputs": [],
   "source": [
    "df.drop('sub_grade',axis=1,inplace=True)"
   ]
  },
  {
   "cell_type": "code",
   "execution_count": 69,
   "metadata": {},
   "outputs": [
    {
     "data": {
      "text/plain": [
       "Index(['loan_amnt', 'term', 'int_rate', 'installment', 'home_ownership',\n",
       "       'annual_inc', 'verification_status', 'issue_d', 'loan_status',\n",
       "       'purpose', 'dti', 'earliest_cr_line', 'open_acc', 'pub_rec',\n",
       "       'revol_bal', 'revol_util', 'total_acc', 'initial_list_status',\n",
       "       'application_type', 'mort_acc', 'pub_rec_bankruptcies', 'address',\n",
       "       'loan_repaid', 'A2', 'A3', 'A4', 'A5', 'B1', 'B2', 'B3', 'B4', 'B5',\n",
       "       'C1', 'C2', 'C3', 'C4', 'C5', 'D1', 'D2', 'D3', 'D4', 'D5', 'E1', 'E2',\n",
       "       'E3', 'E4', 'E5', 'F1', 'F2', 'F3', 'F4', 'F5', 'G1', 'G2', 'G3', 'G4',\n",
       "       'G5'],\n",
       "      dtype='object')"
      ]
     },
     "execution_count": 69,
     "metadata": {},
     "output_type": "execute_result"
    }
   ],
   "source": [
    "df.columns"
   ]
  },
  {
   "cell_type": "code",
   "execution_count": 70,
   "metadata": {},
   "outputs": [
    {
     "data": {
      "text/plain": [
       "Index(['home_ownership', 'verification_status', 'issue_d', 'loan_status',\n",
       "       'purpose', 'earliest_cr_line', 'initial_list_status',\n",
       "       'application_type', 'address'],\n",
       "      dtype='object')"
      ]
     },
     "execution_count": 70,
     "metadata": {},
     "output_type": "execute_result"
    }
   ],
   "source": [
    "df.select_dtypes(['object']).columns"
   ]
  },
  {
   "cell_type": "markdown",
   "metadata": {},
   "source": [
    "### verification_status, application_type,initial_list_status,purpose \n",
    "**TASK: Convert these columns: ['verification_status', 'application_type','initial_list_status','purpose'] into dummy variables and concatenate them with the original dataframe. Remember to set drop_first=True and to drop the original columns.**"
   ]
  },
  {
   "cell_type": "code",
   "execution_count": 71,
   "metadata": {},
   "outputs": [],
   "source": [
    "# CODE HERE\n",
    "temp6 = pd.get_dummies(df[['verification_status', 'application_type','initial_list_status','purpose' ]],drop_first=True)"
   ]
  },
  {
   "cell_type": "code",
   "execution_count": 72,
   "metadata": {},
   "outputs": [],
   "source": [
    "df = df.drop(['verification_status', 'application_type','initial_list_status','purpose'],axis=1)"
   ]
  },
  {
   "cell_type": "code",
   "execution_count": 73,
   "metadata": {},
   "outputs": [],
   "source": [
    "df = pd.concat([df,temp6],axis=1)"
   ]
  },
  {
   "cell_type": "code",
   "execution_count": 74,
   "metadata": {},
   "outputs": [
    {
     "data": {
      "text/plain": [
       "Index(['loan_amnt', 'term', 'int_rate', 'installment', 'home_ownership',\n",
       "       'annual_inc', 'issue_d', 'loan_status', 'dti', 'earliest_cr_line',\n",
       "       'open_acc', 'pub_rec', 'revol_bal', 'revol_util', 'total_acc',\n",
       "       'mort_acc', 'pub_rec_bankruptcies', 'address', 'loan_repaid', 'A2',\n",
       "       'A3', 'A4', 'A5', 'B1', 'B2', 'B3', 'B4', 'B5', 'C1', 'C2', 'C3', 'C4',\n",
       "       'C5', 'D1', 'D2', 'D3', 'D4', 'D5', 'E1', 'E2', 'E3', 'E4', 'E5', 'F1',\n",
       "       'F2', 'F3', 'F4', 'F5', 'G1', 'G2', 'G3', 'G4', 'G5',\n",
       "       'verification_status_Source Verified', 'verification_status_Verified',\n",
       "       'application_type_INDIVIDUAL', 'application_type_JOINT',\n",
       "       'initial_list_status_w', 'purpose_credit_card',\n",
       "       'purpose_debt_consolidation', 'purpose_educational',\n",
       "       'purpose_home_improvement', 'purpose_house', 'purpose_major_purchase',\n",
       "       'purpose_medical', 'purpose_moving', 'purpose_other',\n",
       "       'purpose_renewable_energy', 'purpose_small_business',\n",
       "       'purpose_vacation', 'purpose_wedding'],\n",
       "      dtype='object')"
      ]
     },
     "execution_count": 74,
     "metadata": {},
     "output_type": "execute_result"
    }
   ],
   "source": [
    "df.columns"
   ]
  },
  {
   "cell_type": "markdown",
   "metadata": {},
   "source": [
    "### home_ownership\n",
    "**TASK:Review the value_counts for the home_ownership column.**"
   ]
  },
  {
   "cell_type": "code",
   "execution_count": 75,
   "metadata": {},
   "outputs": [
    {
     "data": {
      "text/plain": [
       "MORTGAGE    198022\n",
       "RENT        159395\n",
       "OWN          37660\n",
       "OTHER          110\n",
       "NONE            29\n",
       "ANY              3\n",
       "Name: home_ownership, dtype: int64"
      ]
     },
     "execution_count": 75,
     "metadata": {},
     "output_type": "execute_result"
    }
   ],
   "source": [
    "#CODE HERE\n",
    "df['home_ownership'].value_counts()"
   ]
  },
  {
   "cell_type": "markdown",
   "metadata": {},
   "source": [
    "**TASK: Convert these to dummy variables, but [replace](https://pandas.pydata.org/pandas-docs/stable/reference/api/pandas.DataFrame.replace.html) NONE and ANY with OTHER, so that we end up with just 4 categories, MORTGAGE, RENT, OWN, OTHER. Then concatenate them with the original dataframe. Remember to set drop_first=True and to drop the original columns.**"
   ]
  },
  {
   "cell_type": "code",
   "execution_count": 76,
   "metadata": {},
   "outputs": [],
   "source": [
    "#CODE HERE\n",
    "df['home_ownership']=df['home_ownership'].replace(['NONE', 'ANY'], 'OTHER')\n",
    "temp7 = pd.get_dummies(df['home_ownership'], drop_first=True)\n",
    "df = df.drop('home_ownership', axis=1)\n",
    "df = pd.concat([df,temp7], axis=1)\n"
   ]
  },
  {
   "cell_type": "code",
   "execution_count": 77,
   "metadata": {},
   "outputs": [
    {
     "data": {
      "text/plain": [
       "Index(['loan_amnt', 'term', 'int_rate', 'installment', 'annual_inc', 'issue_d',\n",
       "       'loan_status', 'dti', 'earliest_cr_line', 'open_acc', 'pub_rec',\n",
       "       'revol_bal', 'revol_util', 'total_acc', 'mort_acc',\n",
       "       'pub_rec_bankruptcies', 'address', 'loan_repaid', 'A2', 'A3', 'A4',\n",
       "       'A5', 'B1', 'B2', 'B3', 'B4', 'B5', 'C1', 'C2', 'C3', 'C4', 'C5', 'D1',\n",
       "       'D2', 'D3', 'D4', 'D5', 'E1', 'E2', 'E3', 'E4', 'E5', 'F1', 'F2', 'F3',\n",
       "       'F4', 'F5', 'G1', 'G2', 'G3', 'G4', 'G5',\n",
       "       'verification_status_Source Verified', 'verification_status_Verified',\n",
       "       'application_type_INDIVIDUAL', 'application_type_JOINT',\n",
       "       'initial_list_status_w', 'purpose_credit_card',\n",
       "       'purpose_debt_consolidation', 'purpose_educational',\n",
       "       'purpose_home_improvement', 'purpose_house', 'purpose_major_purchase',\n",
       "       'purpose_medical', 'purpose_moving', 'purpose_other',\n",
       "       'purpose_renewable_energy', 'purpose_small_business',\n",
       "       'purpose_vacation', 'purpose_wedding', 'OTHER', 'OWN', 'RENT'],\n",
       "      dtype='object')"
      ]
     },
     "execution_count": 77,
     "metadata": {},
     "output_type": "execute_result"
    }
   ],
   "source": [
    "df.columns"
   ]
  },
  {
   "cell_type": "markdown",
   "metadata": {},
   "source": [
    "### address\n",
    "**TASK: Let's feature engineer a zip code column from the address in the data set. Create a column called 'zip_code' that extracts the zip code from the address column.**"
   ]
  },
  {
   "cell_type": "code",
   "execution_count": 78,
   "metadata": {},
   "outputs": [
    {
     "data": {
      "text/plain": [
       "0              0174 Michelle Gateway\\nMendozaberg, OK 22690\n",
       "1           1076 Carney Fort Apt. 347\\nLoganmouth, SD 05113\n",
       "2           87025 Mark Dale Apt. 269\\nNew Sabrina, WV 05113\n",
       "3                     823 Reid Ford\\nDelacruzside, MA 00813\n",
       "4                      679 Luna Roads\\nGreggshire, VA 11650\n",
       "                                ...                        \n",
       "396025       12951 Williams Crossing\\nJohnnyville, DC 30723\n",
       "396026    0114 Fowler Field Suite 028\\nRachelborough, LA...\n",
       "396027     953 Matthew Points Suite 414\\nReedfort, NY 70466\n",
       "396028    7843 Blake Freeway Apt. 229\\nNew Michael, FL 2...\n",
       "396029          787 Michelle Causeway\\nBriannaton, AR 48052\n",
       "Name: address, Length: 395219, dtype: object"
      ]
     },
     "execution_count": 78,
     "metadata": {},
     "output_type": "execute_result"
    }
   ],
   "source": [
    "#CODE HERE\n",
    "df['address']"
   ]
  },
  {
   "cell_type": "code",
   "execution_count": 79,
   "metadata": {},
   "outputs": [],
   "source": [
    "df['zip_code'] = df['address'].apply(lambda address:address[-5:])"
   ]
  },
  {
   "cell_type": "markdown",
   "metadata": {},
   "source": [
    "**TASK: Now make this zip_code column into dummy variables using pandas. Concatenate the result and drop the original zip_code column along with dropping the address column.**"
   ]
  },
  {
   "cell_type": "code",
   "execution_count": 80,
   "metadata": {},
   "outputs": [],
   "source": [
    "temp8 = pd.get_dummies(df['zip_code'],drop_first=True)\n",
    "df = df.drop(['zip_code','address'],axis=1)\n",
    "df = pd.concat([df,temp8],axis=1)"
   ]
  },
  {
   "cell_type": "code",
   "execution_count": 81,
   "metadata": {},
   "outputs": [
    {
     "data": {
      "text/plain": [
       "Index(['loan_amnt', 'term', 'int_rate', 'installment', 'annual_inc', 'issue_d',\n",
       "       'loan_status', 'dti', 'earliest_cr_line', 'open_acc', 'pub_rec',\n",
       "       'revol_bal', 'revol_util', 'total_acc', 'mort_acc',\n",
       "       'pub_rec_bankruptcies', 'loan_repaid', 'A2', 'A3', 'A4', 'A5', 'B1',\n",
       "       'B2', 'B3', 'B4', 'B5', 'C1', 'C2', 'C3', 'C4', 'C5', 'D1', 'D2', 'D3',\n",
       "       'D4', 'D5', 'E1', 'E2', 'E3', 'E4', 'E5', 'F1', 'F2', 'F3', 'F4', 'F5',\n",
       "       'G1', 'G2', 'G3', 'G4', 'G5', 'verification_status_Source Verified',\n",
       "       'verification_status_Verified', 'application_type_INDIVIDUAL',\n",
       "       'application_type_JOINT', 'initial_list_status_w',\n",
       "       'purpose_credit_card', 'purpose_debt_consolidation',\n",
       "       'purpose_educational', 'purpose_home_improvement', 'purpose_house',\n",
       "       'purpose_major_purchase', 'purpose_medical', 'purpose_moving',\n",
       "       'purpose_other', 'purpose_renewable_energy', 'purpose_small_business',\n",
       "       'purpose_vacation', 'purpose_wedding', 'OTHER', 'OWN', 'RENT', '05113',\n",
       "       '11650', '22690', '29597', '30723', '48052', '70466', '86630', '93700'],\n",
       "      dtype='object')"
      ]
     },
     "execution_count": 81,
     "metadata": {},
     "output_type": "execute_result"
    }
   ],
   "source": [
    "df.columns"
   ]
  },
  {
   "cell_type": "markdown",
   "metadata": {},
   "source": [
    "### issue_d \n",
    "\n",
    "**TASK: This would be data leakage, we wouldn't know beforehand whether or not a loan would be issued when using our model, so in theory we wouldn't have an issue_date, drop this feature.**"
   ]
  },
  {
   "cell_type": "code",
   "execution_count": 82,
   "metadata": {},
   "outputs": [],
   "source": [
    "#CODE HERE\n",
    "df= df.drop('issue_d',axis=1)"
   ]
  },
  {
   "cell_type": "markdown",
   "metadata": {},
   "source": [
    "### earliest_cr_line\n",
    "**TASK: This appears to be a historical time stamp feature. Extract the year from this feature using a .apply function, then convert it to a numeric feature. Set this new data to a feature column called 'earliest_cr_year'.Then drop the earliest_cr_line feature.**"
   ]
  },
  {
   "cell_type": "code",
   "execution_count": 83,
   "metadata": {},
   "outputs": [
    {
     "data": {
      "text/plain": [
       "0         Jun-1990\n",
       "1         Jul-2004\n",
       "2         Aug-2007\n",
       "3         Sep-2006\n",
       "4         Mar-1999\n",
       "            ...   \n",
       "396025    Nov-2004\n",
       "396026    Feb-2006\n",
       "396027    Mar-1997\n",
       "396028    Nov-1990\n",
       "396029    Sep-1998\n",
       "Name: earliest_cr_line, Length: 395219, dtype: object"
      ]
     },
     "execution_count": 83,
     "metadata": {},
     "output_type": "execute_result"
    }
   ],
   "source": [
    "#CODE HERE\n",
    "df['earliest_cr_line']"
   ]
  },
  {
   "cell_type": "code",
   "execution_count": 84,
   "metadata": {},
   "outputs": [
    {
     "data": {
      "text/plain": [
       "Index(['loan_status'], dtype='object')"
      ]
     },
     "execution_count": 84,
     "metadata": {},
     "output_type": "execute_result"
    }
   ],
   "source": [
    "df['earliest_cr_year'] = df['earliest_cr_line'].apply(lambda date:int(date[-4:]))\n",
    "df = df.drop('earliest_cr_line', axis=1)\n",
    "df.select_dtypes(['object']).columns"
   ]
  },
  {
   "cell_type": "markdown",
   "metadata": {},
   "source": [
    "## Train Test Split"
   ]
  },
  {
   "cell_type": "markdown",
   "metadata": {},
   "source": [
    "**TASK: Import train_test_split from sklearn.**"
   ]
  },
  {
   "cell_type": "code",
   "execution_count": 85,
   "metadata": {},
   "outputs": [],
   "source": [
    "from sklearn.model_selection import train_test_split"
   ]
  },
  {
   "cell_type": "markdown",
   "metadata": {},
   "source": [
    "**TASK: drop the load_status column we created earlier, since its a duplicate of the loan_repaid column. We'll use the loan_repaid column since its already in 0s and 1s.**"
   ]
  },
  {
   "cell_type": "code",
   "execution_count": 86,
   "metadata": {},
   "outputs": [],
   "source": [
    "# CODE HERE\n",
    "df = df.drop('loan_status', axis=1)"
   ]
  },
  {
   "cell_type": "markdown",
   "metadata": {},
   "source": [
    "**TASK: Set X and y variables to the .values of the features and label.**"
   ]
  },
  {
   "cell_type": "code",
   "execution_count": 87,
   "metadata": {},
   "outputs": [],
   "source": [
    "#CODE HERE\n",
    "X = df.drop('loan_repaid',axis=1).values\n",
    "Y = df['loan_repaid'].values"
   ]
  },
  {
   "cell_type": "code",
   "execution_count": null,
   "metadata": {},
   "outputs": [],
   "source": []
  },
  {
   "cell_type": "markdown",
   "metadata": {},
   "source": [
    "----\n",
    "----\n",
    "\n",
    "# OPTIONAL\n",
    "\n",
    "## Grabbing a Sample for Training Time\n",
    "\n",
    "### OPTIONAL: Use .sample() to grab a sample of the 490k+ entries to save time on training. Highly recommended for lower RAM computers or if you are not using GPU.\n",
    "\n",
    "----\n",
    "----"
   ]
  },
  {
   "cell_type": "code",
   "execution_count": 88,
   "metadata": {},
   "outputs": [
    {
     "name": "stdout",
     "output_type": "stream",
     "text": [
      "39522\n"
     ]
    }
   ],
   "source": [
    "df = df.sample(frac=0.1,random_state=101)\n",
    "print(len(df))"
   ]
  },
  {
   "cell_type": "markdown",
   "metadata": {},
   "source": [
    "**TASK: Perform a train/test split with test_size=0.2 and a random_state of 101.**"
   ]
  },
  {
   "cell_type": "code",
   "execution_count": 89,
   "metadata": {},
   "outputs": [],
   "source": [
    "#CODE HERE\n",
    "x_train, x_test, y_train, y_test = train_test_split(X, Y, test_size=0.2, random_state=101)\n"
   ]
  },
  {
   "cell_type": "markdown",
   "metadata": {},
   "source": [
    "## Normalizing the Data\n",
    "\n",
    "**TASK: Use a MinMaxScaler to normalize the feature data X_train and X_test. Recall we don't want data leakge from the test set so we only fit on the X_train data.**"
   ]
  },
  {
   "cell_type": "code",
   "execution_count": 90,
   "metadata": {},
   "outputs": [],
   "source": [
    "# CODE HERE\n",
    "from sklearn.preprocessing import MinMaxScaler"
   ]
  },
  {
   "cell_type": "code",
   "execution_count": 91,
   "metadata": {},
   "outputs": [],
   "source": [
    "scaler = MinMaxScaler()"
   ]
  },
  {
   "cell_type": "code",
   "execution_count": 92,
   "metadata": {},
   "outputs": [],
   "source": [
    "x_train = scaler.fit_transform(x_train)\n"
   ]
  },
  {
   "cell_type": "code",
   "execution_count": 93,
   "metadata": {},
   "outputs": [],
   "source": [
    "x_test = scaler.transform(x_test)"
   ]
  },
  {
   "cell_type": "markdown",
   "metadata": {},
   "source": [
    "# Creating the Model\n",
    "\n",
    "**TASK: Run the cell below to import the necessary Keras functions.**"
   ]
  },
  {
   "cell_type": "code",
   "execution_count": 94,
   "metadata": {},
   "outputs": [],
   "source": [
    "import tensorflow as tf\n",
    "from tensorflow.keras.models import Sequential\n",
    "from tensorflow.keras.layers import Dense,Dropout"
   ]
  },
  {
   "cell_type": "markdown",
   "metadata": {},
   "source": [
    "**TASK: Build a sequential model to will be trained on the data. You have unlimited options here, but here is what the solution uses: a model that goes 78 --> 39 --> 19--> 1 output neuron. OPTIONAL: Explore adding [Dropout layers](https://keras.io/layers/core/) [1](https://en.wikipedia.org/wiki/Dropout_(neural_networks)) [2](https://towardsdatascience.com/machine-learning-part-20-dropout-keras-layers-explained-8c9f6dc4c9ab)**"
   ]
  },
  {
   "cell_type": "code",
   "execution_count": 128,
   "metadata": {},
   "outputs": [],
   "source": [
    "# CODE HERE\n",
    "model = Sequential()\n",
    "\n",
    "# Choose whatever number of layers/neurons you want.\n",
    "\n",
    "# https://stats.stackexchange.com/questions/181/how-to-choose-the-number-of-hidden-layers-and-nodes-in-a-feedforward-neural-netw\n",
    "\n",
    "# Remember to compile()\n",
    "model.add(Dense(units=78,activation='relu'))\n",
    "model.add(Dropout(0.3))\n",
    "\n",
    "model.add(Dense(units=39,activation='relu'))\n",
    "model.add(Dropout(0.3))\n",
    "\n",
    "model.add(Dense(units=19,activation='relu'))\n",
    "model.add(Dropout(0.3))\n",
    "\n",
    "model.add(Dense(units=1,activation='sigmoid'))\n",
    "model.compile(loss='binary_crossentropy', optimizer='adam')"
   ]
  },
  {
   "cell_type": "markdown",
   "metadata": {},
   "source": [
    "**TASK: Fit the model to the training data for at least 25 epochs. Also add in the validation data for later plotting. Optional: add in a batch_size of 256.**"
   ]
  },
  {
   "cell_type": "code",
   "execution_count": 129,
   "metadata": {},
   "outputs": [
    {
     "name": "stdout",
     "output_type": "stream",
     "text": [
      "Epoch 1/25\n",
      "1236/1236 [==============================] - 3s 2ms/step - loss: 0.3114 - val_loss: 0.2654\n",
      "Epoch 2/25\n",
      "1236/1236 [==============================] - 2s 2ms/step - loss: 0.2676 - val_loss: 0.2634\n",
      "Epoch 3/25\n",
      "1236/1236 [==============================] - 2s 2ms/step - loss: 0.2645 - val_loss: 0.2625\n",
      "Epoch 4/25\n",
      "1236/1236 [==============================] - 2s 2ms/step - loss: 0.2628 - val_loss: 0.2629\n",
      "Epoch 5/25\n",
      "1236/1236 [==============================] - 2s 2ms/step - loss: 0.2618 - val_loss: 0.2628\n",
      "Epoch 6/25\n",
      "1236/1236 [==============================] - 2s 2ms/step - loss: 0.2615 - val_loss: 0.2630\n",
      "Epoch 7/25\n",
      "1236/1236 [==============================] - 2s 2ms/step - loss: 0.2611 - val_loss: 0.2627\n",
      "Epoch 8/25\n",
      "1236/1236 [==============================] - 2s 2ms/step - loss: 0.2608 - val_loss: 0.2624\n",
      "Epoch 9/25\n",
      "1236/1236 [==============================] - 2s 2ms/step - loss: 0.2604 - val_loss: 0.2624\n",
      "Epoch 10/25\n",
      "1236/1236 [==============================] - 2s 2ms/step - loss: 0.2601 - val_loss: 0.2625\n",
      "Epoch 11/25\n",
      "1236/1236 [==============================] - 2s 2ms/step - loss: 0.2600 - val_loss: 0.2618\n",
      "Epoch 12/25\n",
      "1236/1236 [==============================] - 2s 2ms/step - loss: 0.2598 - val_loss: 0.2619\n",
      "Epoch 13/25\n",
      "1236/1236 [==============================] - 2s 2ms/step - loss: 0.2596 - val_loss: 0.2631\n",
      "Epoch 14/25\n",
      "1236/1236 [==============================] - 2s 2ms/step - loss: 0.2593 - val_loss: 0.2622\n",
      "Epoch 15/25\n",
      "1236/1236 [==============================] - 2s 2ms/step - loss: 0.2592 - val_loss: 0.2622\n",
      "Epoch 16/25\n",
      "1236/1236 [==============================] - 2s 2ms/step - loss: 0.2593 - val_loss: 0.2624\n",
      "Epoch 17/25\n",
      "1236/1236 [==============================] - 2s 2ms/step - loss: 0.2589 - val_loss: 0.2617\n",
      "Epoch 18/25\n",
      "1236/1236 [==============================] - 2s 2ms/step - loss: 0.2588 - val_loss: 0.2624\n",
      "Epoch 19/25\n",
      "1236/1236 [==============================] - 2s 2ms/step - loss: 0.2586 - val_loss: 0.2622\n",
      "Epoch 20/25\n",
      "1236/1236 [==============================] - 2s 2ms/step - loss: 0.2584 - val_loss: 0.2617\n",
      "Epoch 21/25\n",
      "1236/1236 [==============================] - 2s 2ms/step - loss: 0.2584 - val_loss: 0.2614\n",
      "Epoch 22/25\n",
      "1236/1236 [==============================] - 2s 2ms/step - loss: 0.2584 - val_loss: 0.2615\n",
      "Epoch 23/25\n",
      "1236/1236 [==============================] - 2s 2ms/step - loss: 0.2581 - val_loss: 0.2616\n",
      "Epoch 24/25\n",
      "1236/1236 [==============================] - 2s 2ms/step - loss: 0.2579 - val_loss: 0.2613\n",
      "Epoch 25/25\n",
      "1236/1236 [==============================] - 2s 2ms/step - loss: 0.2578 - val_loss: 0.2614\n"
     ]
    },
    {
     "data": {
      "text/plain": [
       "<tensorflow.python.keras.callbacks.History at 0x1f04bb8fa30>"
      ]
     },
     "execution_count": 129,
     "metadata": {},
     "output_type": "execute_result"
    }
   ],
   "source": [
    "# CODE HERE\n",
    "model.fit(x=x_train, y=y_train, epochs=25, batch_size=256, validation_data=(x_test, y_test))"
   ]
  },
  {
   "cell_type": "markdown",
   "metadata": {},
   "source": [
    "**TASK: OPTIONAL: Save your model.**"
   ]
  },
  {
   "cell_type": "code",
   "execution_count": 105,
   "metadata": {},
   "outputs": [],
   "source": [
    "# CODE HERE\n",
    "from tensorflow.keras.models import load_model"
   ]
  },
  {
   "cell_type": "code",
   "execution_count": 106,
   "metadata": {},
   "outputs": [],
   "source": [
    "model.save('full_data_project_model.h5') "
   ]
  },
  {
   "cell_type": "markdown",
   "metadata": {},
   "source": [
    "# Section 3: Evaluating Model Performance.\n",
    "\n",
    "**TASK: Plot out the validation loss versus the training loss.**"
   ]
  },
  {
   "cell_type": "code",
   "execution_count": 123,
   "metadata": {},
   "outputs": [],
   "source": [
    "# CODE HERE"
   ]
  },
  {
   "cell_type": "code",
   "execution_count": 130,
   "metadata": {
    "scrolled": true
   },
   "outputs": [
    {
     "data": {
      "text/plain": [
       "<AxesSubplot:>"
      ]
     },
     "execution_count": 130,
     "metadata": {},
     "output_type": "execute_result"
    },
    {
     "data": {
      "image/png": "[encoded data removed]",
      "text/plain": [
       "<Figure size 432x288 with 1 Axes>"
      ]
     },
     "metadata": {
      "needs_background": "light"
     },
     "output_type": "display_data"
    }
   ],
   "source": [
    "loss = pd.DataFrame(model.history.history)\n",
    "loss.plot()"
   ]
  },
  {
   "cell_type": "markdown",
   "metadata": {},
   "source": [
    "**TASK: Create predictions from the X_test set and display a classification report and confusion matrix for the X_test set.**"
   ]
  },
  {
   "cell_type": "code",
   "execution_count": 108,
   "metadata": {},
   "outputs": [
    {
     "name": "stderr",
     "output_type": "stream",
     "text": [
      "C:\\Users\\dawoo\\AppData\\Roaming\\Python\\Python38\\site-packages\\tensorflow\\python\\keras\\engine\\sequential.py:455: UserWarning: `model.predict_classes()` is deprecated and will be removed after 2021-01-01. Please use instead:* `np.argmax(model.predict(x), axis=-1)`,   if your model does multi-class classification   (e.g. if it uses a `softmax` last-layer activation).* `(model.predict(x) > 0.5).astype(\"int32\")`,   if your model does binary classification   (e.g. if it uses a `sigmoid` last-layer activation).\n",
      "  warnings.warn('`model.predict_classes()` is deprecated and '\n"
     ]
    }
   ],
   "source": [
    "# CODE HERE\n",
    "from sklearn.metrics import classification_report,confusion_matrix\n",
    "pred = model.predict_classes(x_test)"
   ]
  },
  {
   "cell_type": "code",
   "execution_count": 109,
   "metadata": {},
   "outputs": [
    {
     "name": "stdout",
     "output_type": "stream",
     "text": [
      "              precision    recall  f1-score   support\n",
      "\n",
      "           0       0.99      0.43      0.60     15658\n",
      "           1       0.88      1.00      0.93     63386\n",
      "\n",
      "    accuracy                           0.89     79044\n",
      "   macro avg       0.93      0.72      0.77     79044\n",
      "weighted avg       0.90      0.89      0.87     79044\n",
      "\n"
     ]
    }
   ],
   "source": [
    "print(classification_report(y_test,pred))"
   ]
  },
  {
   "cell_type": "code",
   "execution_count": 110,
   "metadata": {},
   "outputs": [
    {
     "name": "stdout",
     "output_type": "stream",
     "text": [
      "[[ 6808  8850]\n",
      " [   86 63300]]\n"
     ]
    }
   ],
   "source": [
    "print(confusion_matrix(y_test,pred))\n"
   ]
  },
  {
   "cell_type": "markdown",
   "metadata": {},
   "source": [
    "**TASK: Given the customer below, would you offer this person a loan?**"
   ]
  },
  {
   "cell_type": "code",
   "execution_count": 111,
   "metadata": {},
   "outputs": [
    {
     "data": {
      "text/plain": [
       "loan_amnt           25000.00\n",
       "term                   36.00\n",
       "int_rate                7.90\n",
       "installment           782.26\n",
       "annual_inc          62000.00\n",
       "                      ...   \n",
       "48052                   0.00\n",
       "70466                   1.00\n",
       "86630                   0.00\n",
       "93700                   0.00\n",
       "earliest_cr_year     1991.00\n",
       "Name: 385487, Length: 78, dtype: float64"
      ]
     },
     "execution_count": 111,
     "metadata": {},
     "output_type": "execute_result"
    }
   ],
   "source": [
    "import random\n",
    "random.seed(101)\n",
    "random_ind = random.randint(0,len(df))\n",
    "\n",
    "new_customer = df.drop('loan_repaid',axis=1).iloc[random_ind]\n",
    "new_customer"
   ]
  },
  {
   "cell_type": "code",
   "execution_count": 112,
   "metadata": {},
   "outputs": [
    {
     "data": {
      "text/plain": [
       "array([[1]])"
      ]
     },
     "execution_count": 112,
     "metadata": {},
     "output_type": "execute_result"
    }
   ],
   "source": [
    "# CODE HERE\n",
    "model.predict_classes(new_customer.values.reshape(1,78))\n"
   ]
  },
  {
   "cell_type": "markdown",
   "metadata": {},
   "source": [
    "**TASK: Now check, did this person actually end up paying back their loan?**"
   ]
  },
  {
   "cell_type": "code",
   "execution_count": 113,
   "metadata": {},
   "outputs": [
    {
     "data": {
      "text/plain": [
       "1.0"
      ]
     },
     "execution_count": 113,
     "metadata": {},
     "output_type": "execute_result"
    }
   ],
   "source": [
    "# CODE HERE\n",
    "df.iloc[random_ind]['loan_repaid']"
   ]
  },
  {
   "cell_type": "markdown",
   "metadata": {},
   "source": [
    "# GREAT JOB!"
   ]
  }
 ],
 "metadata": {
  "kernelspec": {
   "display_name": "Python 3",
   "language": "python",
   "name": "python3"
  },
  "language_info": {
   "codemirror_mode": {
    "name": "ipython",
    "version": 3
   },
   "file_extension": ".py",
   "mimetype": "text/x-python",
   "name": "python",
   "nbconvert_exporter": "python",
   "pygments_lexer": "ipython3",
   "version": "3.8.5"
  }
 },
 "nbformat": 4,
 "nbformat_minor": 2
}
